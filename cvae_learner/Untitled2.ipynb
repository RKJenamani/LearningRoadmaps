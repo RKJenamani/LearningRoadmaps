{
 "metadata": {
  "name": ""
 },
 "nbformat": 3,
 "nbformat_minor": 0,
 "worksheets": [
  {
   "cells": [
    {
     "cell_type": "code",
     "collapsed": false,
     "input": [
      "import openravepy\n",
      "import rospy\n",
      "import os\n",
      "import herbpy\n",
      "from prpy import serialization\n",
      "\n",
      "env, robot = herbpy.initialize(sim=True, attach_viewer)"
     ],
     "language": "python",
     "metadata": {},
     "outputs": [
      {
       "ename": "ArgumentError",
       "evalue": "Python argument types in\n    Environment.SetViewer(Environment, bool)\ndid not match C++ signature:\n    SetViewer(openravepy::PyEnvironmentBase {lvalue}, std::string viewername)\n    SetViewer(openravepy::PyEnvironmentBase {lvalue}, std::string viewername, bool showviewer)",
       "output_type": "pyerr",
       "traceback": [
        "\u001b[0;31m---------------------------------------------------------------------------\u001b[0m\n\u001b[0;31mArgumentError\u001b[0m                             Traceback (most recent call last)",
        "\u001b[0;32m<ipython-input-4-e53021ed0dc2>\u001b[0m in \u001b[0;36m<module>\u001b[0;34m()\u001b[0m\n\u001b[1;32m      6\u001b[0m \u001b[0;34m\u001b[0m\u001b[0m\n\u001b[1;32m      7\u001b[0m \u001b[0menv\u001b[0m \u001b[0;34m=\u001b[0m \u001b[0mopenravepy\u001b[0m\u001b[0;34m.\u001b[0m\u001b[0mEnvironment\u001b[0m\u001b[0;34m(\u001b[0m\u001b[0;34m)\u001b[0m\u001b[0;34m\u001b[0m\u001b[0m\n\u001b[0;32m----> 8\u001b[0;31m \u001b[0menv\u001b[0m\u001b[0;34m.\u001b[0m\u001b[0mSetViewer\u001b[0m\u001b[0;34m(\u001b[0m\u001b[0mTrue\u001b[0m\u001b[0;34m)\u001b[0m\u001b[0;34m\u001b[0m\u001b[0m\n\u001b[0m",
        "\u001b[0;31mArgumentError\u001b[0m: Python argument types in\n    Environment.SetViewer(Environment, bool)\ndid not match C++ signature:\n    SetViewer(openravepy::PyEnvironmentBase {lvalue}, std::string viewername)\n    SetViewer(openravepy::PyEnvironmentBase {lvalue}, std::string viewername, bool showviewer)"
       ]
      }
     ],
     "prompt_number": 4
    }
   ],
   "metadata": {}
  }
 ]
}