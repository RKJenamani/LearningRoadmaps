{
 "metadata": {
  "name": ""
 },
 "nbformat": 3,
 "nbformat_minor": 0,
 "worksheets": [
  {
   "cells": [
    {
     "cell_type": "code",
     "collapsed": false,
     "input": [
      "# Workspace problem with several narrow gaps\n",
      "\n",
      "import tensorflow as tf\n",
      "import numpy as np\n",
      "import matplotlib.pyplot as plt\n",
      "import matplotlib.patches as patches\n",
      "import matplotlib.gridspec as gridspec\n",
      "from mpl_toolkits.mplot3d import Axes3D\n",
      "import os\n",
      "import csv\n",
      "from random import randint, random\n",
      "import time\n",
      "\n",
      "# (restrict tensorflow memory growth)\n",
      "os.environ[\"CUDA_VISIBLE_DEVICES\"]=\"1\"\n",
      "config = tf.ConfigProto()\n",
      "config.gpu_options.allow_growth=True"
     ],
     "language": "python",
     "metadata": {},
     "outputs": [],
     "prompt_number": 19
    },
    {
     "cell_type": "code",
     "collapsed": false,
     "input": [
      "# neural network parameters\n",
      "mb_size = 256\n",
      "h_Q_dim = 512\n",
      "h_P_dim = 512\n",
      "\n",
      "c = 0\n",
      "# learning rate\n",
      "lr = 1e-4\n",
      "\n",
      "# problem dimensions\n",
      "dim = 7\n",
      "dataElements = dim*3 + 32 # sample (7D), init (7D), goal (7D), cond (16+16 points (table + box)) //total = 37\n",
      "\n",
      "z_dim = 4 # latent\n",
      "X_dim = dim # samples\n",
      "y_dim = dim # reconstruction of the original point\n",
      "c_dim = dataElements - dim # dimension of conditioning variable"
     ],
     "language": "python",
     "metadata": {},
     "outputs": [],
     "prompt_number": 21
    },
    {
     "cell_type": "code",
     "collapsed": false,
     "input": [
      "# read in data from csv\n",
      "filename = 'samplingdata.txt'\n",
      "f = open(filename, 'rb')\n",
      "reader = csv.reader(f, delimiter=',')\n",
      "count = 0\n",
      "data_list = []\n",
      "for row in reader:\n",
      "    data_list.append(map(float,row[0:dataElements]))\n",
      "\n",
      "data = np.array(data_list,dtype='d')\n",
      "\n",
      "######################### Comment it #############\n",
      "# data[:,3:6] = 0\n",
      "##################################################\n",
      "print(\"shape of array: \",data.shape)\n",
      "\n",
      "numEntries = data.shape[0]"
     ],
     "language": "python",
     "metadata": {},
     "outputs": [
      {
       "output_type": "stream",
       "stream": "stdout",
       "text": [
        "('shape of array: ', (1002, 53))\n"
       ]
      }
     ],
     "prompt_number": 23
    },
    {
     "cell_type": "code",
     "collapsed": false,
     "input": [
      "# split the inputs and conditions into test train (to be processed in the next step into an occupancy grid representation)\n",
      "ratioTestTrain = 0.99;\n",
      "numTrain = int(numEntries*ratioTestTrain)\n",
      "\n",
      "X_train = data[0:numTrain,0:dim] # state: x, y, z, xdot, ydot, zdot\n",
      "c_train = data[0:numTrain,dim:dataElements] # conditions: gaps, init (6), goal (6)\n",
      "\n",
      "X_test = data[numTrain:numEntries,0:dim]\n",
      "c_test = data[numTrain:numEntries,dim:dataElements]\n",
      "\n",
      "#########################################################\n",
      "c_train1 = []\n",
      "c_test1 = []\n",
      "c_train1 = c_train\n",
      "c_test1 = c_test\n",
      "#########################################################\n",
      "numTest = X_test.shape[0]\n",
      "\n",
      "# print(\"shape of final obstacle = \",obs.shape)\n",
      "print(\"shape of c_train1 = \", c_train1.shape)\n",
      "print(\"shape of c_test1 = \",c_test1.shape)"
     ],
     "language": "python",
     "metadata": {},
     "outputs": [
      {
       "output_type": "stream",
       "stream": "stdout",
       "text": [
        "('shape of c_train1 = ', (991, 46))\n",
        "('shape of c_test1 = ', (11, 46))\n"
       ]
      }
     ],
     "prompt_number": 25
    },
    {
     "cell_type": "code",
     "collapsed": false,
     "input": [
      "# define networks\n",
      "X = tf.placeholder(tf.float32, shape=[None, X_dim])\n",
      "c = tf.placeholder(tf.float32, shape=[None, c_dim])\n",
      "\n",
      "# Q\n",
      "inputs_Q = tf.concat(axis=1, values=[X,c])\n",
      "\n",
      "dense_Q1 = tf.layers.dense(inputs=inputs_Q, units=h_Q_dim, activation=tf.nn.relu)\n",
      "dropout_Q1 = tf.layers.dropout(inputs=dense_Q1, rate=0.5)\n",
      "dense_Q2 = tf.layers.dense(inputs=dropout_Q1, units=h_Q_dim, activation=tf.nn.relu)\n",
      "\n",
      "z_mu = tf.layers.dense(inputs=dense_Q2, units=z_dim) # output here is z_mu\n",
      "z_logvar = tf.layers.dense(inputs=dense_Q2, units=z_dim) # output here is z_logvar\n",
      "\n",
      "# P\n",
      "eps = tf.random_normal(shape=tf.shape(z_mu))\n",
      "z = z_mu + tf.exp(z_logvar / 2) * eps\n",
      "z_sigma = tf.exp(z_logvar / 2)\n",
      "inputs_P = tf.concat(axis=1, values=[z,c])\n",
      "\n",
      "dense_P1 = tf.layers.dense(inputs=inputs_P, units=h_P_dim, activation=tf.nn.relu)\n",
      "dropout_P1 = tf.layers.dropout(inputs=dense_P1, rate=0.5)\n",
      "dense_P2 = tf.layers.dense(inputs=dropout_P1, units=h_P_dim, activation=tf.nn.relu)\n",
      "\n",
      "y = tf.layers.dense(inputs=dense_P2, units=X_dim) # fix to also output y\n",
      "\n",
      "# training\n",
      "########### comment in the one with 0 weight and uncomment the other ###########\n",
      "w = [[1, 1, 1, 1, 1, 1, 1]];\n",
      "# w = [[1, 1, 1, 0, 0, 0]];\n",
      "recon_loss = tf.losses.mean_squared_error(labels=X, predictions=y, weights=w)\n",
      "\n",
      "# TODO: fix loss function for angles going around\n",
      "kl_loss = 10**-4 * 2 * tf.reduce_sum(tf.exp(z_logvar) + z_mu**2 - 1. - z_logvar, 1)\n",
      "\n",
      "cvae_loss = tf.reduce_mean(kl_loss + recon_loss)\n",
      "\n",
      "train_step = tf.train.AdamOptimizer(lr).minimize(cvae_loss)\n",
      "\n",
      "sess = tf.Session(config=config)\n",
      "sess.run(tf.global_variables_initializer())\n",
      "it = 0;"
     ],
     "language": "python",
     "metadata": {},
     "outputs": [],
     "prompt_number": 27
    },
    {
     "cell_type": "code",
     "collapsed": false,
     "input": [
      "saver = tf.train.Saver()\n",
      "path_ = os.getcwd() + \"/checkpoints_z4_12June/model.ckpt\"\n",
      "print(\"path = \",path_)\n",
      "print(\"numTrain = \",numTrain)\n",
      "try:\n",
      "    saver.restore(sess, path_)\n",
      "    print(\"Model Restored!!\")\n",
      "except Exception as e:\n",
      "    print(\"Could not restore checkpoint!\")\n",
      "    print(e)\n",
      "x1 = []\n",
      "y1 = [] \n",
      "mu = []\n",
      "sigma = []\n",
      "n_ = []\n",
      "for it in range(it,it+500001):\n",
      "    # randomly generate batches\n",
      "    batch_elements = [randint(0,numTrain-1) for n in range(0,mb_size)]\n",
      "    X_mb = X_train[batch_elements,:]\n",
      "    c_mb = c_train1[batch_elements,:]\n",
      "\n",
      "#     _, loss = sess.run([train_step, cvae_loss], feed_dict={X: X_mb, c: c_mb})\n",
      "    _, loss, m, s = sess.run([train_step, cvae_loss, z_mu, z_sigma], feed_dict={X: X_mb, c: c_mb})\n",
      "\n",
      "    \n",
      "    if it % 1000 == 0:\n",
      "        print('Iter: {}'.format(it))\n",
      "        print('Loss: {:.4}'. format(loss))\n",
      "        n_.append(it)\n",
      "        mu.append(m)\n",
      "        sigma.append(s)\n",
      "        saver.save(sess, path_)\n",
      "        print(\"saved session to \", path_)"
     ],
     "language": "python",
     "metadata": {},
     "outputs": [
      {
       "output_type": "stream",
       "stream": "stdout",
       "text": [
        "('path = ', '/home/vernwalrahul/projects/LearningRoadmaps/cvae_learner/checkpoints_z4_12June/model.ckpt')\n",
        "('numTrain = ', 991)\n",
        "Could not restore checkpoint!"
       ]
      },
      {
       "output_type": "stream",
       "stream": "stdout",
       "text": [
        "\n",
        "Key beta1_power_1 not found in checkpoint\n",
        "\t [[Node: save_1/RestoreV2 = RestoreV2[dtypes=[DT_FLOAT, DT_FLOAT, DT_FLOAT, DT_FLOAT, DT_FLOAT, ..., DT_FLOAT, DT_FLOAT, DT_FLOAT, DT_FLOAT, DT_FLOAT], _device=\"/job:localhost/replica:0/task:0/device:CPU:0\"](_arg_save_1/Const_0_0, save_1/RestoreV2/tensor_names, save_1/RestoreV2/shape_and_slices)]]\n",
        "\n",
        "Caused by op u'save_1/RestoreV2', defined at:\n",
        "  File \"<string>\", line 1, in <module>\n",
        "  File \"/usr/lib/python2.7/dist-packages/IPython/kernel/zmq/kernelapp.py\", line 468, in main\n",
        "    app.start()\n",
        "  File \"/usr/lib/python2.7/dist-packages/IPython/kernel/zmq/kernelapp.py\", line 458, in start\n",
        "    ioloop.IOLoop.instance().start()\n",
        "  File \"/usr/lib/python2.7/dist-packages/zmq/eventloop/ioloop.py\", line 160, in start\n",
        "    super(ZMQIOLoop, self).start()\n",
        "  File \"/usr/lib/python2.7/dist-packages/tornado/ioloop.py\", line 672, in start\n",
        "    self._handlers[fd](fd, events)\n",
        "  File \"/usr/lib/python2.7/dist-packages/tornado/stack_context.py\", line 302, in wrapped\n",
        "    ret = fn(*args, **kwargs)\n",
        "  File \"/usr/lib/python2.7/dist-packages/zmq/eventloop/zmqstream.py\", line 433, in _handle_events\n",
        "    self._handle_recv()\n",
        "  File \"/usr/lib/python2.7/dist-packages/zmq/eventloop/zmqstream.py\", line 465, in _handle_recv\n",
        "    self._run_callback(callback, msg)\n",
        "  File \"/usr/lib/python2.7/dist-packages/zmq/eventloop/zmqstream.py\", line 407, in _run_callback\n",
        "    callback(*args, **kwargs)\n",
        "  File \"/usr/lib/python2.7/dist-packages/tornado/stack_context.py\", line 302, in wrapped\n",
        "    ret = fn(*args, **kwargs)\n",
        "  File \"/usr/lib/python2.7/dist-packages/IPython/kernel/zmq/ipkernel.py\", line 279, in dispatcher\n",
        "    return self.dispatch_shell(stream, msg)\n",
        "  File \"/usr/lib/python2.7/dist-packages/IPython/kernel/zmq/ipkernel.py\", line 247, in dispatch_shell\n",
        "    handler(stream, idents, msg)\n",
        "  File \"/usr/lib/python2.7/dist-packages/IPython/kernel/zmq/ipkernel.py\", line 396, in execute_request\n",
        "    shell.run_cell(code, store_history=store_history, silent=silent)\n",
        "  File \"/usr/lib/python2.7/dist-packages/IPython/core/interactiveshell.py\", line 2660, in run_cell\n",
        "    interactivity=interactivity, compiler=compiler)\n",
        "  File \"/usr/lib/python2.7/dist-packages/IPython/core/interactiveshell.py\", line 2764, in run_ast_nodes\n",
        "    if self.run_code(code):\n",
        "  File \"/usr/lib/python2.7/dist-packages/IPython/core/interactiveshell.py\", line 2820, in run_code\n",
        "    exec code_obj in self.user_global_ns, self.user_ns\n",
        "  File \"<ipython-input-28-20d8ff801b4b>\", line 1, in <module>\n",
        "    saver = tf.train.Saver()\n",
        "  File \"/usr/local/lib/python2.7/dist-packages/tensorflow/python/training/saver.py\", line 1338, in __init__\n",
        "    self.build()\n",
        "  File \"/usr/local/lib/python2.7/dist-packages/tensorflow/python/training/saver.py\", line 1347, in build\n",
        "    self._build(self._filename, build_save=True, build_restore=True)\n",
        "  File \"/usr/local/lib/python2.7/dist-packages/tensorflow/python/training/saver.py\", line 1384, in _build\n",
        "    build_save=build_save, build_restore=build_restore)\n",
        "  File \"/usr/local/lib/python2.7/dist-packages/tensorflow/python/training/saver.py\", line 835, in _build_internal\n",
        "    restore_sequentially, reshape)\n",
        "  File \"/usr/local/lib/python2.7/dist-packages/tensorflow/python/training/saver.py\", line 472, in _AddRestoreOps\n",
        "    restore_sequentially)\n",
        "  File \"/usr/local/lib/python2.7/dist-packages/tensorflow/python/training/saver.py\", line 886, in bulk_restore\n",
        "    return io_ops.restore_v2(filename_tensor, names, slices, dtypes)\n",
        "  File \"/usr/local/lib/python2.7/dist-packages/tensorflow/python/ops/gen_io_ops.py\", line 1463, in restore_v2\n",
        "    shape_and_slices=shape_and_slices, dtypes=dtypes, name=name)\n",
        "  File \"/usr/local/lib/python2.7/dist-packages/tensorflow/python/framework/op_def_library.py\", line 787, in _apply_op_helper\n",
        "    op_def=op_def)\n",
        "  File \"/usr/local/lib/python2.7/dist-packages/tensorflow/python/framework/ops.py\", line 3392, in create_op\n",
        "    op_def=op_def)\n",
        "  File \"/usr/local/lib/python2.7/dist-packages/tensorflow/python/framework/ops.py\", line 1718, in __init__\n",
        "    self._traceback = self._graph._extract_stack()  # pylint: disable=protected-access\n",
        "\n",
        "NotFoundError (see above for traceback): Key beta1_power_1 not found in checkpoint\n",
        "\t [[Node: save_1/RestoreV2 = RestoreV2[dtypes=[DT_FLOAT, DT_FLOAT, DT_FLOAT, DT_FLOAT, DT_FLOAT, ..., DT_FLOAT, DT_FLOAT, DT_FLOAT, DT_FLOAT, DT_FLOAT], _device=\"/job:localhost/replica:0/task:0/device:CPU:0\"](_arg_save_1/Const_0_0, save_1/RestoreV2/tensor_names, save_1/RestoreV2/shape_and_slices)]]\n",
        "\n",
        "Iter: 0"
       ]
      },
      {
       "output_type": "stream",
       "stream": "stdout",
       "text": [
        "\n",
        "Loss: 3.43\n",
        "('saved session to ', '/home/vernwalrahul/projects/LearningRoadmaps/cvae_learner/checkpoints_z4_12June/model.ckpt')"
       ]
      },
      {
       "output_type": "stream",
       "stream": "stdout",
       "text": [
        "\n",
        "Iter: 1000"
       ]
      },
      {
       "output_type": "stream",
       "stream": "stdout",
       "text": [
        "\n",
        "Loss: 0.1109\n",
        "('saved session to ', '/home/vernwalrahul/projects/LearningRoadmaps/cvae_learner/checkpoints_z4_12June/model.ckpt')"
       ]
      },
      {
       "output_type": "stream",
       "stream": "stdout",
       "text": [
        "\n",
        "Iter: 2000"
       ]
      },
      {
       "output_type": "stream",
       "stream": "stdout",
       "text": [
        "\n",
        "Loss: 0.0654\n",
        "('saved session to ', '/home/vernwalrahul/projects/LearningRoadmaps/cvae_learner/checkpoints_z4_12June/model.ckpt')"
       ]
      },
      {
       "output_type": "stream",
       "stream": "stdout",
       "text": [
        "\n",
        "Iter: 3000"
       ]
      },
      {
       "output_type": "stream",
       "stream": "stdout",
       "text": [
        "\n",
        "Loss: 0.05322\n",
        "('saved session to ', '/home/vernwalrahul/projects/LearningRoadmaps/cvae_learner/checkpoints_z4_12June/model.ckpt')"
       ]
      },
      {
       "output_type": "stream",
       "stream": "stdout",
       "text": [
        "\n",
        "Iter: 4000"
       ]
      },
      {
       "output_type": "stream",
       "stream": "stdout",
       "text": [
        "\n",
        "Loss: 0.04386\n",
        "('saved session to ', '/home/vernwalrahul/projects/LearningRoadmaps/cvae_learner/checkpoints_z4_12June/model.ckpt')"
       ]
      },
      {
       "output_type": "stream",
       "stream": "stdout",
       "text": [
        "\n",
        "Iter: 5000"
       ]
      },
      {
       "output_type": "stream",
       "stream": "stdout",
       "text": [
        "\n",
        "Loss: 0.03485\n",
        "('saved session to ', '/home/vernwalrahul/projects/LearningRoadmaps/cvae_learner/checkpoints_z4_12June/model.ckpt')"
       ]
      },
      {
       "output_type": "stream",
       "stream": "stdout",
       "text": [
        "\n",
        "Iter: 6000"
       ]
      },
      {
       "output_type": "stream",
       "stream": "stdout",
       "text": [
        "\n",
        "Loss: 0.02666\n",
        "('saved session to ', '/home/vernwalrahul/projects/LearningRoadmaps/cvae_learner/checkpoints_z4_12June/model.ckpt')"
       ]
      },
      {
       "output_type": "stream",
       "stream": "stdout",
       "text": [
        "\n",
        "Iter: 7000"
       ]
      },
      {
       "output_type": "stream",
       "stream": "stdout",
       "text": [
        "\n",
        "Loss: 0.02231\n",
        "('saved session to ', '/home/vernwalrahul/projects/LearningRoadmaps/cvae_learner/checkpoints_z4_12June/model.ckpt')"
       ]
      },
      {
       "output_type": "stream",
       "stream": "stdout",
       "text": [
        "\n",
        "Iter: 8000"
       ]
      },
      {
       "output_type": "stream",
       "stream": "stdout",
       "text": [
        "\n",
        "Loss: 0.0218\n",
        "('saved session to ', '/home/vernwalrahul/projects/LearningRoadmaps/cvae_learner/checkpoints_z4_12June/model.ckpt')"
       ]
      },
      {
       "output_type": "stream",
       "stream": "stdout",
       "text": [
        "\n",
        "Iter: 9000"
       ]
      },
      {
       "output_type": "stream",
       "stream": "stdout",
       "text": [
        "\n",
        "Loss: 0.01904\n",
        "('saved session to ', '/home/vernwalrahul/projects/LearningRoadmaps/cvae_learner/checkpoints_z4_12June/model.ckpt')"
       ]
      },
      {
       "output_type": "stream",
       "stream": "stdout",
       "text": [
        "\n",
        "Iter: 10000"
       ]
      },
      {
       "output_type": "stream",
       "stream": "stdout",
       "text": [
        "\n",
        "Loss: 0.01718\n",
        "('saved session to ', '/home/vernwalrahul/projects/LearningRoadmaps/cvae_learner/checkpoints_z4_12June/model.ckpt')"
       ]
      },
      {
       "output_type": "stream",
       "stream": "stdout",
       "text": [
        "\n",
        "Iter: 11000"
       ]
      },
      {
       "output_type": "stream",
       "stream": "stdout",
       "text": [
        "\n",
        "Loss: 0.01532\n",
        "('saved session to ', '/home/vernwalrahul/projects/LearningRoadmaps/cvae_learner/checkpoints_z4_12June/model.ckpt')"
       ]
      },
      {
       "output_type": "stream",
       "stream": "stdout",
       "text": [
        "\n",
        "Iter: 12000"
       ]
      },
      {
       "output_type": "stream",
       "stream": "stdout",
       "text": [
        "\n",
        "Loss: 0.01459\n",
        "('saved session to ', '/home/vernwalrahul/projects/LearningRoadmaps/cvae_learner/checkpoints_z4_12June/model.ckpt')"
       ]
      },
      {
       "output_type": "stream",
       "stream": "stdout",
       "text": [
        "\n",
        "Iter: 13000"
       ]
      },
      {
       "output_type": "stream",
       "stream": "stdout",
       "text": [
        "\n",
        "Loss: 0.01341\n",
        "('saved session to ', '/home/vernwalrahul/projects/LearningRoadmaps/cvae_learner/checkpoints_z4_12June/model.ckpt')"
       ]
      },
      {
       "output_type": "stream",
       "stream": "stdout",
       "text": [
        "\n",
        "Iter: 14000"
       ]
      },
      {
       "output_type": "stream",
       "stream": "stdout",
       "text": [
        "\n",
        "Loss: 0.01215\n",
        "('saved session to ', '/home/vernwalrahul/projects/LearningRoadmaps/cvae_learner/checkpoints_z4_12June/model.ckpt')"
       ]
      },
      {
       "output_type": "stream",
       "stream": "stdout",
       "text": [
        "\n",
        "Iter: 15000"
       ]
      },
      {
       "output_type": "stream",
       "stream": "stdout",
       "text": [
        "\n",
        "Loss: 0.01299\n",
        "('saved session to ', '/home/vernwalrahul/projects/LearningRoadmaps/cvae_learner/checkpoints_z4_12June/model.ckpt')"
       ]
      },
      {
       "output_type": "stream",
       "stream": "stdout",
       "text": [
        "\n",
        "Iter: 16000"
       ]
      },
      {
       "output_type": "stream",
       "stream": "stdout",
       "text": [
        "\n",
        "Loss: 0.01155\n",
        "('saved session to ', '/home/vernwalrahul/projects/LearningRoadmaps/cvae_learner/checkpoints_z4_12June/model.ckpt')"
       ]
      },
      {
       "output_type": "stream",
       "stream": "stdout",
       "text": [
        "\n",
        "Iter: 17000"
       ]
      },
      {
       "output_type": "stream",
       "stream": "stdout",
       "text": [
        "\n",
        "Loss: 0.01075\n",
        "('saved session to ', '/home/vernwalrahul/projects/LearningRoadmaps/cvae_learner/checkpoints_z4_12June/model.ckpt')"
       ]
      },
      {
       "output_type": "stream",
       "stream": "stdout",
       "text": [
        "\n",
        "Iter: 18000"
       ]
      },
      {
       "output_type": "stream",
       "stream": "stdout",
       "text": [
        "\n",
        "Loss: 0.01039\n",
        "('saved session to ', '/home/vernwalrahul/projects/LearningRoadmaps/cvae_learner/checkpoints_z4_12June/model.ckpt')"
       ]
      },
      {
       "output_type": "stream",
       "stream": "stdout",
       "text": [
        "\n",
        "Iter: 19000"
       ]
      },
      {
       "output_type": "stream",
       "stream": "stdout",
       "text": [
        "\n",
        "Loss: 0.01016\n",
        "('saved session to ', '/home/vernwalrahul/projects/LearningRoadmaps/cvae_learner/checkpoints_z4_12June/model.ckpt')"
       ]
      },
      {
       "output_type": "stream",
       "stream": "stdout",
       "text": [
        "\n",
        "Iter: 20000"
       ]
      },
      {
       "output_type": "stream",
       "stream": "stdout",
       "text": [
        "\n",
        "Loss: 0.01044\n",
        "('saved session to ', '/home/vernwalrahul/projects/LearningRoadmaps/cvae_learner/checkpoints_z4_12June/model.ckpt')"
       ]
      },
      {
       "output_type": "stream",
       "stream": "stdout",
       "text": [
        "\n",
        "Iter: 21000"
       ]
      },
      {
       "output_type": "stream",
       "stream": "stdout",
       "text": [
        "\n",
        "Loss: 0.009811\n",
        "('saved session to ', '/home/vernwalrahul/projects/LearningRoadmaps/cvae_learner/checkpoints_z4_12June/model.ckpt')"
       ]
      },
      {
       "output_type": "stream",
       "stream": "stdout",
       "text": [
        "\n",
        "Iter: 22000"
       ]
      },
      {
       "output_type": "stream",
       "stream": "stdout",
       "text": [
        "\n",
        "Loss: 0.009552\n",
        "('saved session to ', '/home/vernwalrahul/projects/LearningRoadmaps/cvae_learner/checkpoints_z4_12June/model.ckpt')"
       ]
      },
      {
       "output_type": "stream",
       "stream": "stdout",
       "text": [
        "\n",
        "Iter: 23000"
       ]
      },
      {
       "output_type": "stream",
       "stream": "stdout",
       "text": [
        "\n",
        "Loss: 0.009318\n",
        "('saved session to ', '/home/vernwalrahul/projects/LearningRoadmaps/cvae_learner/checkpoints_z4_12June/model.ckpt')"
       ]
      },
      {
       "output_type": "stream",
       "stream": "stdout",
       "text": [
        "\n",
        "Iter: 24000"
       ]
      },
      {
       "output_type": "stream",
       "stream": "stdout",
       "text": [
        "\n",
        "Loss: 0.009254\n",
        "('saved session to ', '/home/vernwalrahul/projects/LearningRoadmaps/cvae_learner/checkpoints_z4_12June/model.ckpt')"
       ]
      },
      {
       "output_type": "stream",
       "stream": "stdout",
       "text": [
        "\n",
        "Iter: 25000"
       ]
      },
      {
       "output_type": "stream",
       "stream": "stdout",
       "text": [
        "\n",
        "Loss: 0.009017\n",
        "('saved session to ', '/home/vernwalrahul/projects/LearningRoadmaps/cvae_learner/checkpoints_z4_12June/model.ckpt')"
       ]
      },
      {
       "output_type": "stream",
       "stream": "stdout",
       "text": [
        "\n",
        "Iter: 26000"
       ]
      },
      {
       "output_type": "stream",
       "stream": "stdout",
       "text": [
        "\n",
        "Loss: 0.00891\n",
        "('saved session to ', '/home/vernwalrahul/projects/LearningRoadmaps/cvae_learner/checkpoints_z4_12June/model.ckpt')"
       ]
      },
      {
       "output_type": "stream",
       "stream": "stdout",
       "text": [
        "\n",
        "Iter: 27000"
       ]
      },
      {
       "output_type": "stream",
       "stream": "stdout",
       "text": [
        "\n",
        "Loss: 0.008437\n",
        "('saved session to ', '/home/vernwalrahul/projects/LearningRoadmaps/cvae_learner/checkpoints_z4_12June/model.ckpt')"
       ]
      },
      {
       "output_type": "stream",
       "stream": "stdout",
       "text": [
        "\n",
        "Iter: 28000"
       ]
      },
      {
       "output_type": "stream",
       "stream": "stdout",
       "text": [
        "\n",
        "Loss: 0.008374\n",
        "('saved session to ', '/home/vernwalrahul/projects/LearningRoadmaps/cvae_learner/checkpoints_z4_12June/model.ckpt')"
       ]
      },
      {
       "output_type": "stream",
       "stream": "stdout",
       "text": [
        "\n",
        "Iter: 29000"
       ]
      },
      {
       "output_type": "stream",
       "stream": "stdout",
       "text": [
        "\n",
        "Loss: 0.008401\n",
        "('saved session to ', '/home/vernwalrahul/projects/LearningRoadmaps/cvae_learner/checkpoints_z4_12June/model.ckpt')"
       ]
      },
      {
       "output_type": "stream",
       "stream": "stdout",
       "text": [
        "\n",
        "Iter: 30000"
       ]
      },
      {
       "output_type": "stream",
       "stream": "stdout",
       "text": [
        "\n",
        "Loss: 0.00834\n",
        "('saved session to ', '/home/vernwalrahul/projects/LearningRoadmaps/cvae_learner/checkpoints_z4_12June/model.ckpt')"
       ]
      },
      {
       "output_type": "stream",
       "stream": "stdout",
       "text": [
        "\n",
        "Iter: 31000"
       ]
      },
      {
       "output_type": "stream",
       "stream": "stdout",
       "text": [
        "\n",
        "Loss: 0.00819\n",
        "('saved session to ', '/home/vernwalrahul/projects/LearningRoadmaps/cvae_learner/checkpoints_z4_12June/model.ckpt')"
       ]
      },
      {
       "output_type": "stream",
       "stream": "stdout",
       "text": [
        "\n",
        "Iter: 32000"
       ]
      },
      {
       "output_type": "stream",
       "stream": "stdout",
       "text": [
        "\n",
        "Loss: 0.008089\n",
        "('saved session to ', '/home/vernwalrahul/projects/LearningRoadmaps/cvae_learner/checkpoints_z4_12June/model.ckpt')"
       ]
      },
      {
       "output_type": "stream",
       "stream": "stdout",
       "text": [
        "\n",
        "Iter: 33000"
       ]
      },
      {
       "output_type": "stream",
       "stream": "stdout",
       "text": [
        "\n",
        "Loss: 0.008242\n",
        "('saved session to ', '/home/vernwalrahul/projects/LearningRoadmaps/cvae_learner/checkpoints_z4_12June/model.ckpt')"
       ]
      },
      {
       "output_type": "stream",
       "stream": "stdout",
       "text": [
        "\n",
        "Iter: 34000"
       ]
      },
      {
       "output_type": "stream",
       "stream": "stdout",
       "text": [
        "\n",
        "Loss: 0.008121\n",
        "('saved session to ', '/home/vernwalrahul/projects/LearningRoadmaps/cvae_learner/checkpoints_z4_12June/model.ckpt')"
       ]
      },
      {
       "output_type": "stream",
       "stream": "stdout",
       "text": [
        "\n",
        "Iter: 35000"
       ]
      },
      {
       "output_type": "stream",
       "stream": "stdout",
       "text": [
        "\n",
        "Loss: 0.007971\n",
        "('saved session to ', '/home/vernwalrahul/projects/LearningRoadmaps/cvae_learner/checkpoints_z4_12June/model.ckpt')"
       ]
      },
      {
       "output_type": "stream",
       "stream": "stdout",
       "text": [
        "\n",
        "Iter: 36000"
       ]
      },
      {
       "output_type": "stream",
       "stream": "stdout",
       "text": [
        "\n",
        "Loss: 0.008017\n",
        "('saved session to ', '/home/vernwalrahul/projects/LearningRoadmaps/cvae_learner/checkpoints_z4_12June/model.ckpt')"
       ]
      },
      {
       "output_type": "stream",
       "stream": "stdout",
       "text": [
        "\n",
        "Iter: 37000"
       ]
      },
      {
       "output_type": "stream",
       "stream": "stdout",
       "text": [
        "\n",
        "Loss: 0.008292\n",
        "('saved session to ', '/home/vernwalrahul/projects/LearningRoadmaps/cvae_learner/checkpoints_z4_12June/model.ckpt')"
       ]
      },
      {
       "output_type": "stream",
       "stream": "stdout",
       "text": [
        "\n",
        "Iter: 38000"
       ]
      },
      {
       "output_type": "stream",
       "stream": "stdout",
       "text": [
        "\n",
        "Loss: 0.008082\n",
        "('saved session to ', '/home/vernwalrahul/projects/LearningRoadmaps/cvae_learner/checkpoints_z4_12June/model.ckpt')"
       ]
      },
      {
       "output_type": "stream",
       "stream": "stdout",
       "text": [
        "\n",
        "Iter: 39000"
       ]
      },
      {
       "output_type": "stream",
       "stream": "stdout",
       "text": [
        "\n",
        "Loss: 0.007729\n",
        "('saved session to ', '/home/vernwalrahul/projects/LearningRoadmaps/cvae_learner/checkpoints_z4_12June/model.ckpt')"
       ]
      },
      {
       "output_type": "stream",
       "stream": "stdout",
       "text": [
        "\n",
        "Iter: 40000"
       ]
      },
      {
       "output_type": "stream",
       "stream": "stdout",
       "text": [
        "\n",
        "Loss: 0.00774\n",
        "('saved session to ', '/home/vernwalrahul/projects/LearningRoadmaps/cvae_learner/checkpoints_z4_12June/model.ckpt')"
       ]
      },
      {
       "output_type": "stream",
       "stream": "stdout",
       "text": [
        "\n",
        "Iter: 41000"
       ]
      },
      {
       "output_type": "stream",
       "stream": "stdout",
       "text": [
        "\n",
        "Loss: 0.007957\n",
        "('saved session to ', '/home/vernwalrahul/projects/LearningRoadmaps/cvae_learner/checkpoints_z4_12June/model.ckpt')"
       ]
      },
      {
       "ename": "KeyboardInterrupt",
       "evalue": "",
       "output_type": "pyerr",
       "traceback": [
        "\u001b[0;31m---------------------------------------------------------------------------\u001b[0m\n\u001b[0;31mKeyboardInterrupt\u001b[0m                         Traceback (most recent call last)",
        "\u001b[0;32m<ipython-input-28-20d8ff801b4b>\u001b[0m in \u001b[0;36m<module>\u001b[0;34m()\u001b[0m\n\u001b[1;32m     21\u001b[0m \u001b[0;34m\u001b[0m\u001b[0m\n\u001b[1;32m     22\u001b[0m \u001b[0;31m#     _, loss = sess.run([train_step, cvae_loss], feed_dict={X: X_mb, c: c_mb})\u001b[0m\u001b[0;34m\u001b[0m\u001b[0;34m\u001b[0m\u001b[0m\n\u001b[0;32m---> 23\u001b[0;31m     \u001b[0m_\u001b[0m\u001b[0;34m,\u001b[0m \u001b[0mloss\u001b[0m\u001b[0;34m,\u001b[0m \u001b[0mm\u001b[0m\u001b[0;34m,\u001b[0m \u001b[0ms\u001b[0m \u001b[0;34m=\u001b[0m \u001b[0msess\u001b[0m\u001b[0;34m.\u001b[0m\u001b[0mrun\u001b[0m\u001b[0;34m(\u001b[0m\u001b[0;34m[\u001b[0m\u001b[0mtrain_step\u001b[0m\u001b[0;34m,\u001b[0m \u001b[0mcvae_loss\u001b[0m\u001b[0;34m,\u001b[0m \u001b[0mz_mu\u001b[0m\u001b[0;34m,\u001b[0m \u001b[0mz_sigma\u001b[0m\u001b[0;34m]\u001b[0m\u001b[0;34m,\u001b[0m \u001b[0mfeed_dict\u001b[0m\u001b[0;34m=\u001b[0m\u001b[0;34m{\u001b[0m\u001b[0mX\u001b[0m\u001b[0;34m:\u001b[0m \u001b[0mX_mb\u001b[0m\u001b[0;34m,\u001b[0m \u001b[0mc\u001b[0m\u001b[0;34m:\u001b[0m \u001b[0mc_mb\u001b[0m\u001b[0;34m}\u001b[0m\u001b[0;34m)\u001b[0m\u001b[0;34m\u001b[0m\u001b[0m\n\u001b[0m\u001b[1;32m     24\u001b[0m \u001b[0;34m\u001b[0m\u001b[0m\n\u001b[1;32m     25\u001b[0m \u001b[0;34m\u001b[0m\u001b[0m\n",
        "\u001b[0;32m/usr/local/lib/python2.7/dist-packages/tensorflow/python/client/session.pyc\u001b[0m in \u001b[0;36mrun\u001b[0;34m(self, fetches, feed_dict, options, run_metadata)\u001b[0m\n\u001b[1;32m    898\u001b[0m     \u001b[0;32mtry\u001b[0m\u001b[0;34m:\u001b[0m\u001b[0;34m\u001b[0m\u001b[0m\n\u001b[1;32m    899\u001b[0m       result = self._run(None, fetches, feed_dict, options_ptr,\n\u001b[0;32m--> 900\u001b[0;31m                          run_metadata_ptr)\n\u001b[0m\u001b[1;32m    901\u001b[0m       \u001b[0;32mif\u001b[0m \u001b[0mrun_metadata\u001b[0m\u001b[0;34m:\u001b[0m\u001b[0;34m\u001b[0m\u001b[0m\n\u001b[1;32m    902\u001b[0m         \u001b[0mproto_data\u001b[0m \u001b[0;34m=\u001b[0m \u001b[0mtf_session\u001b[0m\u001b[0;34m.\u001b[0m\u001b[0mTF_GetBuffer\u001b[0m\u001b[0;34m(\u001b[0m\u001b[0mrun_metadata_ptr\u001b[0m\u001b[0;34m)\u001b[0m\u001b[0;34m\u001b[0m\u001b[0m\n",
        "\u001b[0;32m/usr/local/lib/python2.7/dist-packages/tensorflow/python/client/session.pyc\u001b[0m in \u001b[0;36m_run\u001b[0;34m(self, handle, fetches, feed_dict, options, run_metadata)\u001b[0m\n\u001b[1;32m   1133\u001b[0m     \u001b[0;32mif\u001b[0m \u001b[0mfinal_fetches\u001b[0m \u001b[0;32mor\u001b[0m \u001b[0mfinal_targets\u001b[0m \u001b[0;32mor\u001b[0m \u001b[0;34m(\u001b[0m\u001b[0mhandle\u001b[0m \u001b[0;32mand\u001b[0m \u001b[0mfeed_dict_tensor\u001b[0m\u001b[0;34m)\u001b[0m\u001b[0;34m:\u001b[0m\u001b[0;34m\u001b[0m\u001b[0m\n\u001b[1;32m   1134\u001b[0m       results = self._do_run(handle, final_targets, final_fetches,\n\u001b[0;32m-> 1135\u001b[0;31m                              feed_dict_tensor, options, run_metadata)\n\u001b[0m\u001b[1;32m   1136\u001b[0m     \u001b[0;32melse\u001b[0m\u001b[0;34m:\u001b[0m\u001b[0;34m\u001b[0m\u001b[0m\n\u001b[1;32m   1137\u001b[0m       \u001b[0mresults\u001b[0m \u001b[0;34m=\u001b[0m \u001b[0;34m[\u001b[0m\u001b[0;34m]\u001b[0m\u001b[0;34m\u001b[0m\u001b[0m\n",
        "\u001b[0;32m/usr/local/lib/python2.7/dist-packages/tensorflow/python/client/session.pyc\u001b[0m in \u001b[0;36m_do_run\u001b[0;34m(self, handle, target_list, fetch_list, feed_dict, options, run_metadata)\u001b[0m\n\u001b[1;32m   1314\u001b[0m     \u001b[0;32mif\u001b[0m \u001b[0mhandle\u001b[0m \u001b[0;32mis\u001b[0m \u001b[0mNone\u001b[0m\u001b[0;34m:\u001b[0m\u001b[0;34m\u001b[0m\u001b[0m\n\u001b[1;32m   1315\u001b[0m       return self._do_call(_run_fn, feeds, fetches, targets, options,\n\u001b[0;32m-> 1316\u001b[0;31m                            run_metadata)\n\u001b[0m\u001b[1;32m   1317\u001b[0m     \u001b[0;32melse\u001b[0m\u001b[0;34m:\u001b[0m\u001b[0;34m\u001b[0m\u001b[0m\n\u001b[1;32m   1318\u001b[0m       \u001b[0;32mreturn\u001b[0m \u001b[0mself\u001b[0m\u001b[0;34m.\u001b[0m\u001b[0m_do_call\u001b[0m\u001b[0;34m(\u001b[0m\u001b[0m_prun_fn\u001b[0m\u001b[0;34m,\u001b[0m \u001b[0mhandle\u001b[0m\u001b[0;34m,\u001b[0m \u001b[0mfeeds\u001b[0m\u001b[0;34m,\u001b[0m \u001b[0mfetches\u001b[0m\u001b[0;34m)\u001b[0m\u001b[0;34m\u001b[0m\u001b[0m\n",
        "\u001b[0;32m/usr/local/lib/python2.7/dist-packages/tensorflow/python/client/session.pyc\u001b[0m in \u001b[0;36m_do_call\u001b[0;34m(self, fn, *args)\u001b[0m\n\u001b[1;32m   1320\u001b[0m   \u001b[0;32mdef\u001b[0m \u001b[0m_do_call\u001b[0m\u001b[0;34m(\u001b[0m\u001b[0mself\u001b[0m\u001b[0;34m,\u001b[0m \u001b[0mfn\u001b[0m\u001b[0;34m,\u001b[0m \u001b[0;34m*\u001b[0m\u001b[0margs\u001b[0m\u001b[0;34m)\u001b[0m\u001b[0;34m:\u001b[0m\u001b[0;34m\u001b[0m\u001b[0m\n\u001b[1;32m   1321\u001b[0m     \u001b[0;32mtry\u001b[0m\u001b[0;34m:\u001b[0m\u001b[0;34m\u001b[0m\u001b[0m\n\u001b[0;32m-> 1322\u001b[0;31m       \u001b[0;32mreturn\u001b[0m \u001b[0mfn\u001b[0m\u001b[0;34m(\u001b[0m\u001b[0;34m*\u001b[0m\u001b[0margs\u001b[0m\u001b[0;34m)\u001b[0m\u001b[0;34m\u001b[0m\u001b[0m\n\u001b[0m\u001b[1;32m   1323\u001b[0m     \u001b[0;32mexcept\u001b[0m \u001b[0merrors\u001b[0m\u001b[0;34m.\u001b[0m\u001b[0mOpError\u001b[0m \u001b[0;32mas\u001b[0m \u001b[0me\u001b[0m\u001b[0;34m:\u001b[0m\u001b[0;34m\u001b[0m\u001b[0m\n\u001b[1;32m   1324\u001b[0m       \u001b[0mmessage\u001b[0m \u001b[0;34m=\u001b[0m \u001b[0mcompat\u001b[0m\u001b[0;34m.\u001b[0m\u001b[0mas_text\u001b[0m\u001b[0;34m(\u001b[0m\u001b[0me\u001b[0m\u001b[0;34m.\u001b[0m\u001b[0mmessage\u001b[0m\u001b[0;34m)\u001b[0m\u001b[0;34m\u001b[0m\u001b[0m\n",
        "\u001b[0;32m/usr/local/lib/python2.7/dist-packages/tensorflow/python/client/session.pyc\u001b[0m in \u001b[0;36m_run_fn\u001b[0;34m(feed_dict, fetch_list, target_list, options, run_metadata)\u001b[0m\n\u001b[1;32m   1305\u001b[0m       \u001b[0mself\u001b[0m\u001b[0;34m.\u001b[0m\u001b[0m_extend_graph\u001b[0m\u001b[0;34m(\u001b[0m\u001b[0;34m)\u001b[0m\u001b[0;34m\u001b[0m\u001b[0m\n\u001b[1;32m   1306\u001b[0m       return self._call_tf_sessionrun(\n\u001b[0;32m-> 1307\u001b[0;31m           options, feed_dict, fetch_list, target_list, run_metadata)\n\u001b[0m\u001b[1;32m   1308\u001b[0m \u001b[0;34m\u001b[0m\u001b[0m\n\u001b[1;32m   1309\u001b[0m     \u001b[0;32mdef\u001b[0m \u001b[0m_prun_fn\u001b[0m\u001b[0;34m(\u001b[0m\u001b[0mhandle\u001b[0m\u001b[0;34m,\u001b[0m \u001b[0mfeed_dict\u001b[0m\u001b[0;34m,\u001b[0m \u001b[0mfetch_list\u001b[0m\u001b[0;34m)\u001b[0m\u001b[0;34m:\u001b[0m\u001b[0;34m\u001b[0m\u001b[0m\n",
        "\u001b[0;32m/usr/local/lib/python2.7/dist-packages/tensorflow/python/client/session.pyc\u001b[0m in \u001b[0;36m_call_tf_sessionrun\u001b[0;34m(self, options, feed_dict, fetch_list, target_list, run_metadata)\u001b[0m\n\u001b[1;32m   1407\u001b[0m       return tf_session.TF_SessionRun_wrapper(\n\u001b[1;32m   1408\u001b[0m           \u001b[0mself\u001b[0m\u001b[0;34m.\u001b[0m\u001b[0m_session\u001b[0m\u001b[0;34m,\u001b[0m \u001b[0moptions\u001b[0m\u001b[0;34m,\u001b[0m \u001b[0mfeed_dict\u001b[0m\u001b[0;34m,\u001b[0m \u001b[0mfetch_list\u001b[0m\u001b[0;34m,\u001b[0m \u001b[0mtarget_list\u001b[0m\u001b[0;34m,\u001b[0m\u001b[0;34m\u001b[0m\u001b[0m\n\u001b[0;32m-> 1409\u001b[0;31m           run_metadata)\n\u001b[0m\u001b[1;32m   1410\u001b[0m     \u001b[0;32melse\u001b[0m\u001b[0;34m:\u001b[0m\u001b[0;34m\u001b[0m\u001b[0m\n\u001b[1;32m   1411\u001b[0m       \u001b[0;32mwith\u001b[0m \u001b[0merrors\u001b[0m\u001b[0;34m.\u001b[0m\u001b[0mraise_exception_on_not_ok_status\u001b[0m\u001b[0;34m(\u001b[0m\u001b[0;34m)\u001b[0m \u001b[0;32mas\u001b[0m \u001b[0mstatus\u001b[0m\u001b[0;34m:\u001b[0m\u001b[0;34m\u001b[0m\u001b[0m\n",
        "\u001b[0;31mKeyboardInterrupt\u001b[0m: "
       ]
      },
      {
       "output_type": "stream",
       "stream": "stdout",
       "text": [
        "\n"
       ]
      }
     ],
     "prompt_number": 28
    },
    {
     "cell_type": "code",
     "collapsed": false,
     "input": [
      "print(c,z)\n",
      "def create_samples(G, directory):\n",
      "    start = np.loadtxt(directory+\"/start_node.txt\")\n",
      "    goal = np.loadtxt(directory+\"/goal_node.txt\")\n",
      "    cond = np.loadtxt(directory+\"/conditions.txt\")\n",
      "#     cond = np.array([cond[23]])\n",
      "    def state_to_numpy(state):\n",
      "        strlist = state.split()\n",
      "        val_list = [float(s) for s in strlist]\n",
      "        return np.array(val_list)\n",
      "    \n",
      "    # cond = cond.split(\",\")\n",
      "    path_nodes = []\n",
      "    i = 0\n",
      "    c_samples = []\n",
      "    with open(directory + \"/path_nodes.txt\", 'r') as file:\n",
      "        lines  = file.readlines()\n",
      "        for line in lines:\n",
      "            line = line.strip('\\n')\n",
      "#             print(line)\n",
      "#             print(\"\\n\\n\")\n",
      "            if(not line == '-1'):\n",
      "                s = state_to_numpy(G.node[str(int(start[i]))]['state'])\n",
      "                g = state_to_numpy(G.node[str(int(goal[i]))]['state'])\n",
      "                path_nodes = str(line).split(\",\")\n",
      "                # print(path_nodes)\n",
      "                for path_node in path_nodes:\n",
      "                    node_conf = state_to_numpy(G.node[path_node]['state'])\n",
      "                    curr_node = np.array([])\n",
      "                    # print(\"Data = \",node_conf, s, g, cond)\n",
      "#                     print(\"\\n\")\n",
      "                    curr_node = np.concatenate((s, g, cond))\n",
      "                    c_samples.append(curr_node)\n",
      "    return np.array(c_samples)\n",
      "print(\"c, z = \",c, z)"
     ],
     "language": "python",
     "metadata": {},
     "outputs": [
      {
       "output_type": "stream",
       "stream": "stdout",
       "text": [
        "(<tf.Tensor 'Placeholder_5:0' shape=(?, 46) dtype=float32>, <tf.Tensor 'add_6:0' shape=(?, 4) dtype=float32>)\n",
        "('c, z = ', <tf.Tensor 'Placeholder_5:0' shape=(?, 46) dtype=float32>, <tf.Tensor 'add_6:0' shape=(?, 4) dtype=float32>)\n"
       ]
      }
     ],
     "prompt_number": 29
    },
    {
     "cell_type": "code",
     "collapsed": false,
     "input": [
      "num_v = [200, 300, 400, 500]\n",
      "c_final = []\n",
      "print(\"c, z = \", c, z)\n",
      "import networkx as nx\n",
      "from random import choice\n",
      "G = nx.read_graphml(\"graphs/modified_graph_30000.graphml\")\n",
      "\n",
      "dire = [\"test_data_11June/T1/4\", \"test_data_11June/T1/7\", \"test_data_11June/T2/0\", \"test_data_11June/T2/4\", \"test_data_11June/T2/7\", \"test_data_11June/T2/14\"]\n",
      "dire = [\"temp_data/T2/5\", \"temp_data/T1/5\"]\n",
      "for num_viz in num_v:\n",
      "    for directory in dire:\n",
      "        c_final = []\n",
      "        c_samples = np.float32(create_samples(G, directory))\n",
      "    \n",
      "        for i in range(num_viz):\n",
      "            c_final.append(choice(c_samples))\n",
      "        z_final = np.random.randn(num_viz,z_dim)\n",
      "    \n",
      "        c_final = np.array(c_final)\n",
      "        print(\"c_final_dim = \",c_final.shape)\n",
      "        print(\"z_dim = \",z_final.shape)\n",
      "        # directly sample from the latent space (preferred, what we will use in the end)\n",
      "        y_viz, z_viz = sess.run([y, z], feed_dict={z: z_final, c: c_final})\n",
      "    \n",
      "        print(y_viz)\n",
      "        np.savetxt(directory+\"/output_samples_z\"+str(z_dim)+\"_n\"+str(num_viz)+\".txt\", y_viz, delimiter=\" \", fmt=\"%s\")"
     ],
     "language": "python",
     "metadata": {},
     "outputs": [
      {
       "output_type": "stream",
       "stream": "stdout",
       "text": [
        "('c, z = ', <tf.Tensor 'Placeholder_5:0' shape=(?, 46) dtype=float32>, <tf.Tensor 'add_6:0' shape=(?, 4) dtype=float32>)\n",
        "('c_final_dim = ', (200, 46))"
       ]
      },
      {
       "output_type": "stream",
       "stream": "stdout",
       "text": [
        "\n",
        "('z_dim = ', (200, 4))\n",
        "[[ 2.5961185  -1.3952746   0.21403958 ... -2.2446356   1.2418927\n",
        "   1.3176001 ]\n",
        " [ 3.0374136  -1.0273994  -0.06907591 ...  0.6352132  -0.40040484\n",
        "  -0.5188271 ]\n",
        " [ 1.665069   -1.3758514   1.6481439  ...  0.25593245  0.4765599\n",
        "  -1.1570028 ]\n",
        " ...\n",
        " [ 3.3783145  -1.3741984   0.98987067 ... -0.559081   -1.088785\n",
        "   1.3902092 ]\n",
        " [ 2.181243   -1.1522958   0.19967791 ... -1.5657544   0.08426962\n",
        "   0.11689299]\n",
        " [ 2.7953258  -1.0882865   2.6716673  ... -0.3236066   1.2040797\n",
        "  -0.14180398]]\n",
        "('c_final_dim = ', (200, 46))"
       ]
      },
      {
       "output_type": "stream",
       "stream": "stdout",
       "text": [
        "\n",
        "('z_dim = ', (200, 4))\n",
        "[[ 1.7901576   1.1716249   0.7360666  ... -1.633859    0.3544567\n",
        "  -1.8146901 ]\n",
        " [ 3.0230336   1.1416146   0.8948394  ... -1.7146361   1.4364228\n",
        "   0.5012077 ]\n",
        " [ 2.5948515   1.2935601  -0.96160215 ... -2.2915978   0.02291561\n",
        "   0.6871777 ]\n",
        " ...\n",
        " [ 1.1212434   0.9015511   0.7379832  ... -0.4973566   0.278565\n",
        "  -0.16998151]\n",
        " [ 2.4509857   1.231544   -2.1037714  ... -2.0319571   0.41083458\n",
        "   1.2796724 ]\n",
        " [ 2.973362    0.246363   -0.2982132  ... -2.109093    0.6485472\n",
        "   1.4044949 ]]\n",
        "('c_final_dim = ', (300, 46))\n",
        "('z_dim = ', (300, 4))\n",
        "[[ 3.531252   -0.80443484 -0.10940042 ... -1.8761379  -0.39204764\n",
        "  -0.73922294]\n",
        " [ 3.3434508  -1.0538986   1.1610439  ... -0.22447032  0.8441505\n",
        "  -0.31139547]\n",
        " [ 3.620699   -0.53542376  1.2445     ... -0.9837388   0.85979074\n",
        "   1.2308502 ]\n",
        " ...\n",
        " [ 3.6188793  -0.8136357  -0.2116635  ...  0.08197659  0.5006598\n",
        "   0.11157007]\n",
        " [ 4.025037   -0.55750316  0.09122619 ...  0.2770735  -0.73217344\n",
        "  -1.4669671 ]\n",
        " [ 3.2902012  -1.2933029   0.5100599  ... -0.5470316   0.45182768\n",
        "   1.0585656 ]]\n",
        "('c_final_dim = ', (300, 46))\n",
        "('z_dim = ', (300, 4))\n",
        "[[ 2.9315128   1.448687    0.25233343 ... -0.6155759   0.790199\n",
        "  -0.5691317 ]\n",
        " [ 2.186853    1.2719971  -0.4166412  ... -2.050511    0.26113793\n",
        "  -0.5417716 ]\n",
        " [ 2.603333    0.84823066 -0.5844917  ... -2.2544422   0.03842799\n",
        "   1.2533143 ]\n",
        " ...\n",
        " [ 2.4953964   1.4538518  -0.78939116 ... -1.4749118   0.05342475\n",
        "  -0.23243923]\n",
        " [ 3.7422214   0.812187    0.51384485 ... -2.2664723   0.7162272\n",
        "   1.4780279 ]\n",
        " [ 2.320727    1.4555922   1.3687092  ... -0.50869113  0.70205873\n",
        "   1.4851353 ]]"
       ]
      },
      {
       "output_type": "stream",
       "stream": "stdout",
       "text": [
        "\n",
        "('c_final_dim = ', (400, 46))\n",
        "('z_dim = ', (400, 4))\n",
        "[[ 2.8178787  -1.037513   -0.6695069  ... -1.4741299  -0.34113392\n",
        "   0.33145648]\n",
        " [ 3.0871358  -1.0807849   0.72378427 ... -1.0175524   0.5491784\n",
        "   0.18590936]\n",
        " [ 4.3636513  -1.3865747   0.7804793  ... -1.5938313  -0.91827744\n",
        "   1.3607512 ]\n",
        " ...\n",
        " [ 4.4806185  -1.2979611   1.1681303  ... -2.2804809   0.50988847\n",
        "  -0.9494405 ]\n",
        " [ 3.6585176  -1.5854526  -0.08281496 ...  0.39056122  1.0748665\n",
        "   1.156784  ]\n",
        " [ 3.5381203  -0.97223264  0.6529663  ... -2.0790162   1.301333\n",
        "  -0.34607068]]\n",
        "('c_final_dim = ', (400, 46))\n",
        "('z_dim = ', (400, 4))\n",
        "[[ 2.4917908   0.7795791  -2.3127406  ...  0.25053033  1.1030445\n",
        "   0.87731314]\n",
        " [ 2.904584    1.7923183  -1.1014886  ... -0.94138664 -0.29882655\n",
        "   1.7162251 ]\n",
        " [ 3.7361274  -0.7506534  -0.6060852  ...  0.7453851   0.4016669\n",
        "  -1.0693208 ]\n",
        " ...\n",
        " [ 1.7368333   1.374019   -0.74665195 ... -2.6259382  -0.08218215\n",
        "   0.32776278]\n",
        " [ 1.3829396   1.2277724  -1.4861656  ... -1.1081227  -0.11429729\n",
        "  -0.41560268]\n",
        " [ 2.4342012   1.211489   -0.30538717 ... -1.1454092   0.4450108\n",
        "  -0.6462002 ]]"
       ]
      },
      {
       "output_type": "stream",
       "stream": "stdout",
       "text": [
        "\n",
        "('c_final_dim = ', (500, 46))\n",
        "('z_dim = ', (500, 4))\n",
        "[[ 1.6032194  -1.0442729   1.3139778  ...  0.7782312   0.8305742\n",
        "   0.42332834]\n",
        " [ 2.5875297  -1.1053504   0.542859   ... -1.196617    0.02266283\n",
        "  -2.4449558 ]\n",
        " [ 2.533802   -1.0173644   0.17885593 ... -1.2722309   0.63271075\n",
        "   1.0824794 ]\n",
        " ...\n",
        " [ 2.277009   -0.7530136  -1.2810028  ...  1.4233487  -0.27144045\n",
        "   1.35587   ]\n",
        " [ 3.624817   -1.3429463  -0.11098389 ... -0.10938916  1.214577\n",
        "   1.3195388 ]\n",
        " [ 3.624879   -0.7827772  -0.02236053 ... -2.2884092   0.46249464\n",
        "  -0.15964195]]\n",
        "('c_final_dim = ', (500, 46))\n",
        "('z_dim = ', (500, 4))\n",
        "[[ 1.9713134   0.21087565 -0.44149587 ... -2.8019052  -0.21574527\n",
        "   0.46258736]\n",
        " [ 4.577224   -0.4131338  -0.7394201  ... -1.1638892   0.30501035\n",
        "  -1.5125082 ]\n",
        " [ 3.5419087   1.670532    0.09509638 ... -1.229342    0.48423854\n",
        "   0.13606024]\n",
        " ...\n",
        " [ 2.2825258   0.04860141 -0.63600594 ... -2.183336    0.3225104\n",
        "   0.2685139 ]\n",
        " [ 3.5092702   0.34384343  0.87922764 ... -1.634134    0.55436236\n",
        "   0.2882458 ]\n",
        " [ 1.7214454   0.01941161 -0.72872806 ... -0.537139    1.2769002\n",
        "  -0.44224104]]"
       ]
      },
      {
       "output_type": "stream",
       "stream": "stdout",
       "text": [
        "\n"
       ]
      }
     ],
     "prompt_number": 30
    }
   ],
   "metadata": {}
  }
 ]
}