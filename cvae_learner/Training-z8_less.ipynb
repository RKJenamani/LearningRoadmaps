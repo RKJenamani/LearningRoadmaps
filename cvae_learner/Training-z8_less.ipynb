{
 "metadata": {
  "name": ""
 },
 "nbformat": 3,
 "nbformat_minor": 0,
 "worksheets": [
  {
   "cells": [
    {
     "cell_type": "code",
     "collapsed": false,
     "input": [
      "import openravepy\n",
      "import rospy\n",
      "import os\n",
      "import herbpy\n",
      "from prpy import serialization\n",
      "\n",
      "env, robot = herbpy.initialize(sim=True, attach_viewer='interactivemarker')\n",
      "\n",
      "from catkin.find_in_workspaces import find_in_workspaces\n",
      "\n",
      "package_name = 'pr_ordata'\n",
      "directory = 'data'\n",
      "objects_path = find_in_workspaces(\n",
      "    search_dirs=['share'],\n",
      "    project=package_name,\n",
      "    path=directory,\n",
      "    first_match_only=True)\n",
      "if len(objects_path) == 0:\n",
      "    print('Can\\'t find directory %s/%s' % (package_name, directory))\n",
      "    sys.exit()\n",
      "else:\n",
      "    print objects_path # for me this is '/home/USERNAME/catkin_workspaces/herb_ws/src/pr-ordata/data/objects'\n",
      "    objects_path = objects_path[0]\n",
      "    \n",
      "robot.right_arm.SetActive()\n",
      "# Load table from pr_ordata\n",
      "table_file = os.path.join(objects_path,'objects/table.kinbody.xml')\n",
      "tall_white_box_file = os.path.join(objects_path,'objects/tall_white_box.kinbody.xml')\n",
      "table = env.ReadKinBodyXMLFile(table_file)\n",
      "env.AddKinBody(table)\n",
      "tall_white_box = env.ReadKinBodyXMLFile(tall_white_box_file)\n",
      "env.AddKinBody(tall_white_box)"
     ],
     "language": "python",
     "metadata": {},
     "outputs": [
      {
       "output_type": "stream",
       "stream": "stdout",
       "text": [
        "[INFO] [prpy.controllers.trigger_controller:trigger_controller.py:21]:__init__: Trigger Controller initialized\u001b[0m\n"
       ]
      },
      {
       "output_type": "stream",
       "stream": "stdout",
       "text": [
        "[INFO] [prpy.controllers.trigger_controller:trigger_controller.py:21]:__init__: Trigger Controller initialized\u001b[0m\n"
       ]
      },
      {
       "output_type": "stream",
       "stream": "stdout",
       "text": [
        "['/home/vernwalrahul/projects/catkin_ws/src/pr_ordata/data']\n"
       ]
      }
     ],
     "prompt_number": 1
    },
    {
     "cell_type": "code",
     "collapsed": false,
     "input": [
      "# Workspace problem with several narrow gaps\n",
      "\n",
      "import tensorflow as tf\n",
      "import numpy as np\n",
      "import matplotlib.pyplot as plt\n",
      "import matplotlib.patches as patches\n",
      "import matplotlib.gridspec as gridspec\n",
      "from mpl_toolkits.mplot3d import Axes3D\n",
      "import os\n",
      "import csv\n",
      "from random import randint, random\n",
      "import time\n",
      "\n",
      "# (restrict tensorflow memory growth)\n",
      "os.environ[\"CUDA_VISIBLE_DEVICES\"]=\"1\"\n",
      "config = tf.ConfigProto()\n",
      "config.gpu_options.allow_growth=True"
     ],
     "language": "python",
     "metadata": {},
     "outputs": [
      {
       "output_type": "stream",
       "stream": "stderr",
       "text": [
        "/usr/lib/python2.7/dist-packages/scipy/ndimage/measurements.py:36: RuntimeWarning: numpy.dtype size changed, may indicate binary incompatibility\n",
        "  from . import _ni_label\n"
       ]
      }
     ],
     "prompt_number": 7
    },
    {
     "cell_type": "code",
     "collapsed": false,
     "input": [
      "# neural network parameters\n",
      "mb_size = 256\n",
      "h_Q_dim = 512\n",
      "h_P_dim = 512\n",
      "\n",
      "c = 0\n",
      "# learning rate\n",
      "lr = 1e-4\n",
      "\n",
      "# problem dimensions\n",
      "dim = 8\n",
      "dataElements = dim*3 + 32 # sample (7D), init (7D), goal (7D), cond (16+16 points (table + box)) //total = 37\n",
      "\n",
      "z_dim = 8 # latent\n",
      "X_dim = dim # samples\n",
      "y_dim = dim # reconstruction of the original point\n",
      "c_dim = dataElements - dim # dimension of conditioning variable"
     ],
     "language": "python",
     "metadata": {},
     "outputs": [],
     "prompt_number": 2
    },
    {
     "cell_type": "code",
     "collapsed": false,
     "input": [
      "#Pre-Processing\n",
      "\n",
      "import os\n",
      "import argparse\n",
      "import networkx as nx\n",
      "import math        \n",
      "import numpy as np\n",
      "\n",
      "def state_to_numpy(state):\n",
      "    strlist = state.split()\n",
      "    val_list = [float(s) for s in strlist]\n",
      "    return np.array(val_list)\n",
      "\n",
      "def list_all_dir(data_dir):\n",
      "    task_dirs = os.listdir(data_dir)\n",
      "\n",
      "    list_dir = []\n",
      "    for task_dir in task_dirs:\n",
      "        env_dirs = os.listdir(data_dir+\"/\"+task_dir)\n",
      "        for env_dir in env_dirs:\n",
      "            list_dir.append(data_dir +\"/\"+ task_dir +\"/\"+ env_dir)\n",
      "    return list_dir  \n",
      "\n",
      "def process_it(G, directory):\n",
      "    start = np.loadtxt(directory+\"/start_node.txt\")\n",
      "    goal = np.loadtxt(directory+\"/goal_node.txt\")\n",
      "    cond = np.loadtxt(directory+\"/conditions.txt\")\n",
      "    # occ_grid = occ_grid.split(\",\")\n",
      "    path_nodes = []\n",
      "    i = 0\n",
      "    all_data = []\n",
      "    with open(directory + \"/path_nodes.txt\", 'r') as file:\n",
      "        lines  = file.readlines()\n",
      "        for line in lines:\n",
      "            line = line.strip('\\n')\n",
      "#             print(line)\n",
      "#             print(\"\\n\\n\")\n",
      "            \n",
      "            s = state_to_numpy(G.node[str(int(start[i]))]['state'])\n",
      "            g = state_to_numpy(G.node[str(int(goal[i]))]['state'])\n",
      "#             og = occ_grid[i]\n",
      "            path_nodes = str(line).split(\",\")\n",
      "            # print(path_nodes)\n",
      "            for path_node in path_nodes:\n",
      "                if(path_node=='-1'):\n",
      "                    continue\n",
      "                node_conf = state_to_numpy(G.node[path_node]['state'])\n",
      "                curr_node = np.array([])\n",
      "                # print(\"Data = \",node_conf, s, g, occ_grid)\n",
      "#                     print(\"\\n\")\n",
      "#                     print(\"node_conf = \", node_conf, \" s = \", s, \" g = \",g)\n",
      "\n",
      "                curr_node = np.concatenate((node_conf, s, g, cond))\n",
      "#                     print(\"shape of curr_node = \", curr_node.shape)\n",
      "                all_data.append(curr_node)\n",
      "            i+=1\n",
      "    return all_data"
     ],
     "language": "python",
     "metadata": {},
     "outputs": [
      {
       "output_type": "stream",
       "stream": "stderr",
       "text": [
        "/usr/lib/python2.7/dist-packages/scipy/spatial/__init__.py:90: RuntimeWarning: numpy.dtype size changed, may indicate binary incompatibility\n",
        "  from .ckdtree import *\n",
        "/usr/lib/python2.7/dist-packages/scipy/spatial/__init__.py:91: RuntimeWarning: numpy.dtype size changed, may indicate binary incompatibility\n",
        "  from .qhull import *\n",
        "/usr/lib/python2.7/dist-packages/scipy/special/__init__.py:531: RuntimeWarning: numpy.dtype size changed, may indicate binary incompatibility\n",
        "  from ._ufuncs import *\n"
       ]
      },
      {
       "output_type": "stream",
       "stream": "stderr",
       "text": [
        "/usr/lib/python2.7/pkgutil.py:186: ImportWarning: Not importing directory '/usr/local/lib/python2.7/dist-packages/virtualenvwrapper': missing __init__.py\n",
        "  file, filename, etc = imp.find_module(subname, path)\n",
        "/usr/lib/python2.7/pkgutil.py:186: ImportWarning: Not importing directory '/usr/local/lib/python2.7/dist-packages/google': missing __init__.py\n",
        "  file, filename, etc = imp.find_module(subname, path)\n"
       ]
      }
     ],
     "prompt_number": 3
    },
    {
     "cell_type": "code",
     "collapsed": false,
     "input": [
      "G = nx.read_graphml(\"graphs/modified_graph_8D30000_3lacs.graphml\")\n",
      "data_dir = \"data_21June\"\n",
      "\n",
      "directories = list_all_dir(data_dir)\n",
      "final_data = []\n",
      "flag = 0\n",
      "\n",
      "for directory in directories:\n",
      "    data = np.array(process_it(G, directory))\n",
      "    if(flag==0):\n",
      "        flag=1\n",
      "        final_data = data\n",
      "    else:\n",
      "        final_data = np.concatenate((final_data, data))\n",
      "\n",
      "\n",
      "data = final_data\n",
      "np.random.shuffle(data)\n",
      "print(\"shape of array: \",data.shape)\n",
      "\n",
      "numEntries = data.shape[0]\n",
      "\n",
      "# # read in data from csv\n",
      "# filename = 'samplingdata.txt'\n",
      "# f = open(filename, 'rb')\n",
      "# reader = csv.reader(f, delimiter=',')\n",
      "# count = 0\n",
      "# data_list = []\n",
      "# for row in reader:\n",
      "#     data_list.append(map(float,row[0:dataElements]))\n",
      "\n",
      "# data = np.array(data_list,dtype='d')\n",
      "\n",
      "# ######################### Comment it #############\n",
      "# # data[:,3:6] = 0\n",
      "# ##################################################\n",
      "# print(\"shape of array: \",data.shape)\n",
      "\n",
      "# numEntries = data.shape[0]"
     ],
     "language": "python",
     "metadata": {},
     "outputs": [
      {
       "output_type": "stream",
       "stream": "stdout",
       "text": [
        "('shape of array: ', (7067, 56))\n"
       ]
      }
     ],
     "prompt_number": 8
    },
    {
     "cell_type": "code",
     "collapsed": false,
     "input": [
      "# split the inputs and conditions into test train (to be processed in the next step into an occupancy grid representation)\n",
      "ratioTestTrain = 0.8;\n",
      "numTrain = int(numEntries*ratioTestTrain)\n",
      "\n",
      "X_train = data[0:numTrain,0:dim] # state: x, y, z, xdot, ydot, zdot\n",
      "c_train = data[0:numTrain,dim:dataElements] # conditions: gaps, init (6), goal (6)\n",
      "\n",
      "X_test = data[numTrain:numEntries,0:dim]\n",
      "c_test = data[numTrain:numEntries,dim:dataElements]\n",
      "\n",
      "#########################################################\n",
      "c_train1 = []\n",
      "c_test1 = []\n",
      "c_train1 = c_train\n",
      "c_test1 = c_test\n",
      "#########################################################\n",
      "numTest = X_test.shape[0]\n",
      "\n",
      "# print(\"shape of final obstacle = \",obs.shape)\n",
      "print(\"shape of c_train1 = \", c_train1.shape)\n",
      "print(\"shape of c_test1 = \",c_test1.shape)"
     ],
     "language": "python",
     "metadata": {},
     "outputs": [
      {
       "output_type": "stream",
       "stream": "stdout",
       "text": [
        "('shape of c_train1 = ', (5653, 48))\n",
        "('shape of c_test1 = ', (1414, 48))\n"
       ]
      }
     ],
     "prompt_number": 9
    },
    {
     "cell_type": "code",
     "collapsed": false,
     "input": [
      "# define networks\n",
      "X = tf.placeholder(tf.float32, shape=[None, X_dim])\n",
      "c = tf.placeholder(tf.float32, shape=[None, c_dim])\n",
      "\n",
      "# Q\n",
      "inputs_Q = tf.concat(axis=1, values=[X,c])\n",
      "\n",
      "dense_Q1 = tf.layers.dense(inputs=inputs_Q, units=h_Q_dim, activation=tf.nn.relu)\n",
      "dropout_Q1 = tf.layers.dropout(inputs=dense_Q1, rate=0.5)\n",
      "dense_Q2 = tf.layers.dense(inputs=dropout_Q1, units=h_Q_dim, activation=tf.nn.relu)\n",
      "\n",
      "z_mu = tf.layers.dense(inputs=dense_Q2, units=z_dim) # output here is z_mu\n",
      "z_logvar = tf.layers.dense(inputs=dense_Q2, units=z_dim) # output here is z_logvar\n",
      "\n",
      "# P\n",
      "eps = tf.random_normal(shape=tf.shape(z_mu))\n",
      "z = z_mu + tf.exp(z_logvar / 2) * eps\n",
      "# z_sigma = tf.exp(z_logvar /2)\n",
      "inputs_P = tf.concat(axis=1, values=[z,c])\n",
      "\n",
      "dense_P1 = tf.layers.dense(inputs=inputs_P, units=h_P_dim, activation=tf.nn.relu)\n",
      "dropout_P1 = tf.layers.dropout(inputs=dense_P1, rate=0.5)\n",
      "dense_P2 = tf.layers.dense(inputs=dropout_P1, units=h_P_dim, activation=tf.nn.relu)\n",
      "\n",
      "y = tf.layers.dense(inputs=dense_P2, units=X_dim) # fix to also output y\n",
      "\n",
      "# training\n",
      "########### comment in the one with 0 weight and uncomment the other ###########\n",
      "w = [[1, 1, 1, 1, 1, 1, 1, 1]];\n",
      "# w = [[1, 1, 1, 0, 0, 0]];\n",
      "recon_loss = tf.losses.mean_squared_error(labels=X, predictions=y, weights=w)\n",
      "\n",
      "# TODO: fix loss function for angles going around\n",
      "kl_loss = 10**-4 * 2 * tf.reduce_sum(tf.exp(z_logvar) + z_mu**2 - 1. - z_logvar, 1)\n",
      "\n",
      "cvae_loss = tf.reduce_mean(kl_loss + recon_loss)\n",
      "\n",
      "train_step = tf.train.AdamOptimizer(lr).minimize(cvae_loss)\n",
      "\n",
      "sess = tf.Session(config=config)\n",
      "sess.run(tf.global_variables_initializer())\n",
      "it = 0;"
     ],
     "language": "python",
     "metadata": {},
     "outputs": [],
     "prompt_number": 10
    },
    {
     "cell_type": "code",
     "collapsed": false,
     "input": [
      "saver = tf.train.Saver()\n",
      "path_ = os.getcwd() + \"/checkpoints_z8_21Junedata_less/model.ckpt\"\n",
      "print(\"path = \",path_)\n",
      "print(\"numTrain = \",numTrain)\n",
      "try:\n",
      "    saver.restore(sess, path_)\n",
      "    print(\"Model Restored!!\")\n",
      "except Exception as e:\n",
      "    print(\"Could not restore checkpoint!\")\n",
      "    print(e)\n",
      "x1 = []\n",
      "y1 = []    \n",
      "mu = []\n",
      "sigma = []\n",
      "n_ = []\n",
      "for it in range(it,it+500001):\n",
      "    # randomly generate batches\n",
      "    batch_elements = [randint(0,numTrain-1) for n in range(0,mb_size)]\n",
      "    X_mb = X_train[batch_elements,:]\n",
      "    c_mb = c_train1[batch_elements,:]\n",
      "    \n",
      "    _, loss, r = sess.run([train_step, cvae_loss, recon_loss], feed_dict={X: X_mb, c: c_mb})\n",
      "\n",
      "#     _, loss, m, s = sess.run([train_step, cvae_loss, z_mu, z_sigma], feed_dict={X: X_mb, c: c_mb})\n",
      "\n",
      "    if it % 1000 == 0:\n",
      "        print('Iter: {}'.format(it))\n",
      "        print('Loss: {:.7}'. format(loss))\n",
      "        print('Recon_Loss: {:.7}'.format(r))\n",
      "        print(\"kl_loss = \", loss-r)\n",
      "#         mu.append(m)\n",
      "#         sigma.append(s)\n",
      "        n_.append(it)\n",
      "        saver.save(sess, path_)\n",
      "        print(\"saved session to \", path_)"
     ],
     "language": "python",
     "metadata": {},
     "outputs": [
      {
       "output_type": "stream",
       "stream": "stdout",
       "text": [
        "('path = ', '/home/vernwalrahul/projects/LearningRoadmaps/cvae_learner/checkpoints_z8_21Junedata_less/model.ckpt')\n",
        "('numTrain = ', 5653)\n",
        "[INFO] [tensorflow:tf_logging.py:116]:info: Restoring parameters from /home/vernwalrahul/projects/LearningRoadmaps/cvae_learner/checkpoints_z8_21Junedata_less/model.ckpt\u001b[0m\n"
       ]
      },
      {
       "output_type": "stream",
       "stream": "stdout",
       "text": [
        "Model Restored!!\n",
        "Iter: 0"
       ]
      },
      {
       "output_type": "stream",
       "stream": "stdout",
       "text": [
        "\n",
        "Loss: 0.01276916\n",
        "Recon_Loss: 0.005576964\n",
        "('kl_loss = ', 0.0071921954)\n",
        "('saved session to ', '/home/vernwalrahul/projects/LearningRoadmaps/cvae_learner/checkpoints_z8_21Junedata_less/model.ckpt')"
       ]
      },
      {
       "output_type": "stream",
       "stream": "stdout",
       "text": [
        "\n",
        "Iter: 1000"
       ]
      },
      {
       "output_type": "stream",
       "stream": "stdout",
       "text": [
        "\n",
        "Loss: 0.01005317\n",
        "Recon_Loss: 0.002726293\n",
        "('kl_loss = ', 0.007326875)\n",
        "('saved session to ', '/home/vernwalrahul/projects/LearningRoadmaps/cvae_learner/checkpoints_z8_21Junedata_less/model.ckpt')"
       ]
      },
      {
       "output_type": "stream",
       "stream": "stdout",
       "text": [
        "\n",
        "Iter: 2000"
       ]
      },
      {
       "output_type": "stream",
       "stream": "stdout",
       "text": [
        "\n",
        "Loss: 0.009562731\n",
        "Recon_Loss: 0.002278137\n",
        "('kl_loss = ', 0.007284594)\n",
        "('saved session to ', '/home/vernwalrahul/projects/LearningRoadmaps/cvae_learner/checkpoints_z8_21Junedata_less/model.ckpt')"
       ]
      },
      {
       "output_type": "stream",
       "stream": "stdout",
       "text": [
        "\n",
        "Iter: 3000"
       ]
      },
      {
       "output_type": "stream",
       "stream": "stdout",
       "text": [
        "\n",
        "Loss: 0.009671973\n",
        "Recon_Loss: 0.002401509\n",
        "('kl_loss = ', 0.0072704647)\n",
        "('saved session to ', '/home/vernwalrahul/projects/LearningRoadmaps/cvae_learner/checkpoints_z8_21Junedata_less/model.ckpt')"
       ]
      },
      {
       "output_type": "stream",
       "stream": "stdout",
       "text": [
        "\n",
        "Iter: 4000"
       ]
      },
      {
       "output_type": "stream",
       "stream": "stdout",
       "text": [
        "\n",
        "Loss: 0.009087484\n",
        "Recon_Loss: 0.001795817\n",
        "('kl_loss = ', 0.0072916676)\n",
        "('saved session to ', '/home/vernwalrahul/projects/LearningRoadmaps/cvae_learner/checkpoints_z8_21Junedata_less/model.ckpt')"
       ]
      },
      {
       "output_type": "stream",
       "stream": "stdout",
       "text": [
        "\n",
        "Iter: 5000"
       ]
      },
      {
       "output_type": "stream",
       "stream": "stdout",
       "text": [
        "\n",
        "Loss: 0.009049191\n",
        "Recon_Loss: 0.001714108\n",
        "('kl_loss = ', 0.0073350826)\n",
        "('saved session to ', '/home/vernwalrahul/projects/LearningRoadmaps/cvae_learner/checkpoints_z8_21Junedata_less/model.ckpt')"
       ]
      },
      {
       "output_type": "stream",
       "stream": "stdout",
       "text": [
        "\n",
        "Iter: 6000"
       ]
      },
      {
       "output_type": "stream",
       "stream": "stdout",
       "text": [
        "\n",
        "Loss: 0.009073446\n",
        "Recon_Loss: 0.001744097\n",
        "('kl_loss = ', 0.0073293485)\n",
        "('saved session to ', '/home/vernwalrahul/projects/LearningRoadmaps/cvae_learner/checkpoints_z8_21Junedata_less/model.ckpt')"
       ]
      },
      {
       "output_type": "stream",
       "stream": "stdout",
       "text": [
        "\n",
        "Iter: 7000"
       ]
      },
      {
       "output_type": "stream",
       "stream": "stdout",
       "text": [
        "\n",
        "Loss: 0.008907741\n",
        "Recon_Loss: 0.001527656\n",
        "('kl_loss = ', 0.0073800846)\n",
        "('saved session to ', '/home/vernwalrahul/projects/LearningRoadmaps/cvae_learner/checkpoints_z8_21Junedata_less/model.ckpt')"
       ]
      },
      {
       "output_type": "stream",
       "stream": "stdout",
       "text": [
        "\n",
        "Iter: 8000"
       ]
      },
      {
       "output_type": "stream",
       "stream": "stdout",
       "text": [
        "\n",
        "Loss: 0.008829734\n",
        "Recon_Loss: 0.001572308\n",
        "('kl_loss = ', 0.007257426)\n",
        "('saved session to ', '/home/vernwalrahul/projects/LearningRoadmaps/cvae_learner/checkpoints_z8_21Junedata_less/model.ckpt')"
       ]
      },
      {
       "output_type": "stream",
       "stream": "stdout",
       "text": [
        "\n",
        "Iter: 9000"
       ]
      },
      {
       "output_type": "stream",
       "stream": "stdout",
       "text": [
        "\n",
        "Loss: 0.008950932\n",
        "Recon_Loss: 0.001704661\n",
        "('kl_loss = ', 0.007246271)\n",
        "('saved session to ', '/home/vernwalrahul/projects/LearningRoadmaps/cvae_learner/checkpoints_z8_21Junedata_less/model.ckpt')"
       ]
      },
      {
       "output_type": "stream",
       "stream": "stdout",
       "text": [
        "\n",
        "Iter: 10000"
       ]
      },
      {
       "output_type": "stream",
       "stream": "stdout",
       "text": [
        "\n",
        "Loss: 0.008793259\n",
        "Recon_Loss: 0.001537983\n",
        "('kl_loss = ', 0.007255276)\n",
        "('saved session to ', '/home/vernwalrahul/projects/LearningRoadmaps/cvae_learner/checkpoints_z8_21Junedata_less/model.ckpt')"
       ]
      },
      {
       "output_type": "stream",
       "stream": "stdout",
       "text": [
        "\n",
        "Iter: 11000"
       ]
      },
      {
       "output_type": "stream",
       "stream": "stdout",
       "text": [
        "\n",
        "Loss: 0.008829096\n",
        "Recon_Loss: 0.001604514\n",
        "('kl_loss = ', 0.007224582)\n",
        "('saved session to ', '/home/vernwalrahul/projects/LearningRoadmaps/cvae_learner/checkpoints_z8_21Junedata_less/model.ckpt')"
       ]
      },
      {
       "output_type": "stream",
       "stream": "stdout",
       "text": [
        "\n",
        "Iter: 12000"
       ]
      },
      {
       "output_type": "stream",
       "stream": "stdout",
       "text": [
        "\n",
        "Loss: 0.008828039\n",
        "Recon_Loss: 0.001514342\n",
        "('kl_loss = ', 0.0073136976)\n",
        "('saved session to ', '/home/vernwalrahul/projects/LearningRoadmaps/cvae_learner/checkpoints_z8_21Junedata_less/model.ckpt')"
       ]
      },
      {
       "output_type": "stream",
       "stream": "stdout",
       "text": [
        "\n",
        "Iter: 13000"
       ]
      },
      {
       "output_type": "stream",
       "stream": "stdout",
       "text": [
        "\n",
        "Loss: 0.00885611\n",
        "Recon_Loss: 0.001530857\n",
        "('kl_loss = ', 0.0073252534)\n",
        "('saved session to ', '/home/vernwalrahul/projects/LearningRoadmaps/cvae_learner/checkpoints_z8_21Junedata_less/model.ckpt')"
       ]
      },
      {
       "output_type": "stream",
       "stream": "stdout",
       "text": [
        "\n",
        "Iter: 14000"
       ]
      },
      {
       "output_type": "stream",
       "stream": "stdout",
       "text": [
        "\n",
        "Loss: 0.008721584\n",
        "Recon_Loss: 0.001464262\n",
        "('kl_loss = ', 0.007257321)\n",
        "('saved session to ', '/home/vernwalrahul/projects/LearningRoadmaps/cvae_learner/checkpoints_z8_21Junedata_less/model.ckpt')"
       ]
      },
      {
       "output_type": "stream",
       "stream": "stdout",
       "text": [
        "\n",
        "Iter: 15000"
       ]
      },
      {
       "output_type": "stream",
       "stream": "stdout",
       "text": [
        "\n",
        "Loss: 0.008873655\n",
        "Recon_Loss: 0.001574145\n",
        "('kl_loss = ', 0.00729951)\n",
        "('saved session to ', '/home/vernwalrahul/projects/LearningRoadmaps/cvae_learner/checkpoints_z8_21Junedata_less/model.ckpt')"
       ]
      },
      {
       "output_type": "stream",
       "stream": "stdout",
       "text": [
        "\n",
        "Iter: 16000"
       ]
      },
      {
       "output_type": "stream",
       "stream": "stdout",
       "text": [
        "\n",
        "Loss: 0.008727873\n",
        "Recon_Loss: 0.001472784\n",
        "('kl_loss = ', 0.0072550885)\n",
        "('saved session to ', '/home/vernwalrahul/projects/LearningRoadmaps/cvae_learner/checkpoints_z8_21Junedata_less/model.ckpt')"
       ]
      },
      {
       "output_type": "stream",
       "stream": "stdout",
       "text": [
        "\n",
        "Iter: 17000"
       ]
      },
      {
       "output_type": "stream",
       "stream": "stdout",
       "text": [
        "\n",
        "Loss: 0.008852983\n",
        "Recon_Loss: 0.001653197\n",
        "('kl_loss = ', 0.007199786)\n",
        "('saved session to ', '/home/vernwalrahul/projects/LearningRoadmaps/cvae_learner/checkpoints_z8_21Junedata_less/model.ckpt')"
       ]
      },
      {
       "output_type": "stream",
       "stream": "stdout",
       "text": [
        "\n",
        "Iter: 18000"
       ]
      },
      {
       "output_type": "stream",
       "stream": "stdout",
       "text": [
        "\n",
        "Loss: 0.008742921\n",
        "Recon_Loss: 0.001453033\n",
        "('kl_loss = ', 0.0072898883)\n",
        "('saved session to ', '/home/vernwalrahul/projects/LearningRoadmaps/cvae_learner/checkpoints_z8_21Junedata_less/model.ckpt')"
       ]
      },
      {
       "output_type": "stream",
       "stream": "stdout",
       "text": [
        "\n",
        "Iter: 19000"
       ]
      },
      {
       "output_type": "stream",
       "stream": "stdout",
       "text": [
        "\n",
        "Loss: 0.008670688\n",
        "Recon_Loss: 0.001413694\n",
        "('kl_loss = ', 0.007256994)\n",
        "('saved session to ', '/home/vernwalrahul/projects/LearningRoadmaps/cvae_learner/checkpoints_z8_21Junedata_less/model.ckpt')"
       ]
      },
      {
       "output_type": "stream",
       "stream": "stdout",
       "text": [
        "\n",
        "Iter: 20000"
       ]
      },
      {
       "output_type": "stream",
       "stream": "stdout",
       "text": [
        "\n",
        "Loss: 0.00885873\n",
        "Recon_Loss: 0.001602801\n",
        "('kl_loss = ', 0.0072559295)\n",
        "('saved session to ', '/home/vernwalrahul/projects/LearningRoadmaps/cvae_learner/checkpoints_z8_21Junedata_less/model.ckpt')"
       ]
      },
      {
       "output_type": "stream",
       "stream": "stdout",
       "text": [
        "\n",
        "Iter: 21000"
       ]
      },
      {
       "output_type": "stream",
       "stream": "stdout",
       "text": [
        "\n",
        "Loss: 0.008856776\n",
        "Recon_Loss: 0.001589704\n",
        "('kl_loss = ', 0.007267072)\n",
        "('saved session to ', '/home/vernwalrahul/projects/LearningRoadmaps/cvae_learner/checkpoints_z8_21Junedata_less/model.ckpt')"
       ]
      },
      {
       "output_type": "stream",
       "stream": "stdout",
       "text": [
        "\n",
        "Iter: 22000"
       ]
      },
      {
       "output_type": "stream",
       "stream": "stdout",
       "text": [
        "\n",
        "Loss: 0.008701198\n",
        "Recon_Loss: 0.00154359\n",
        "('kl_loss = ', 0.007157608)\n",
        "('saved session to ', '/home/vernwalrahul/projects/LearningRoadmaps/cvae_learner/checkpoints_z8_21Junedata_less/model.ckpt')"
       ]
      },
      {
       "output_type": "stream",
       "stream": "stdout",
       "text": [
        "\n",
        "Iter: 23000"
       ]
      },
      {
       "output_type": "stream",
       "stream": "stdout",
       "text": [
        "\n",
        "Loss: 0.008801234\n",
        "Recon_Loss: 0.001592916\n",
        "('kl_loss = ', 0.0072083184)\n",
        "('saved session to ', '/home/vernwalrahul/projects/LearningRoadmaps/cvae_learner/checkpoints_z8_21Junedata_less/model.ckpt')"
       ]
      },
      {
       "output_type": "stream",
       "stream": "stdout",
       "text": [
        "\n",
        "Iter: 24000"
       ]
      },
      {
       "output_type": "stream",
       "stream": "stdout",
       "text": [
        "\n",
        "Loss: 0.008687127\n",
        "Recon_Loss: 0.001534971\n",
        "('kl_loss = ', 0.0071521564)\n",
        "('saved session to ', '/home/vernwalrahul/projects/LearningRoadmaps/cvae_learner/checkpoints_z8_21Junedata_less/model.ckpt')"
       ]
      },
      {
       "output_type": "stream",
       "stream": "stdout",
       "text": [
        "\n",
        "Iter: 25000"
       ]
      },
      {
       "output_type": "stream",
       "stream": "stdout",
       "text": [
        "\n",
        "Loss: 0.008626572\n",
        "Recon_Loss: 0.001454139\n",
        "('kl_loss = ', 0.007172433)\n",
        "('saved session to ', '/home/vernwalrahul/projects/LearningRoadmaps/cvae_learner/checkpoints_z8_21Junedata_less/model.ckpt')"
       ]
      },
      {
       "output_type": "stream",
       "stream": "stdout",
       "text": [
        "\n",
        "Iter: 26000"
       ]
      },
      {
       "output_type": "stream",
       "stream": "stdout",
       "text": [
        "\n",
        "Loss: 0.008667889\n",
        "Recon_Loss: 0.001505964\n",
        "('kl_loss = ', 0.0071619246)\n",
        "('saved session to ', '/home/vernwalrahul/projects/LearningRoadmaps/cvae_learner/checkpoints_z8_21Junedata_less/model.ckpt')"
       ]
      },
      {
       "output_type": "stream",
       "stream": "stdout",
       "text": [
        "\n",
        "Iter: 27000"
       ]
      },
      {
       "output_type": "stream",
       "stream": "stdout",
       "text": [
        "\n",
        "Loss: 0.008745525\n",
        "Recon_Loss: 0.001575793\n",
        "('kl_loss = ', 0.007169732)\n",
        "('saved session to ', '/home/vernwalrahul/projects/LearningRoadmaps/cvae_learner/checkpoints_z8_21Junedata_less/model.ckpt')"
       ]
      },
      {
       "output_type": "stream",
       "stream": "stdout",
       "text": [
        "\n",
        "Iter: 28000"
       ]
      },
      {
       "output_type": "stream",
       "stream": "stdout",
       "text": [
        "\n",
        "Loss: 0.008641554\n",
        "Recon_Loss: 0.001481949\n",
        "('kl_loss = ', 0.0071596047)\n",
        "('saved session to ', '/home/vernwalrahul/projects/LearningRoadmaps/cvae_learner/checkpoints_z8_21Junedata_less/model.ckpt')"
       ]
      },
      {
       "output_type": "stream",
       "stream": "stdout",
       "text": [
        "\n",
        "Iter: 29000"
       ]
      },
      {
       "output_type": "stream",
       "stream": "stdout",
       "text": [
        "\n",
        "Loss: 0.008606194\n",
        "Recon_Loss: 0.001434898\n",
        "('kl_loss = ', 0.0071712956)\n",
        "('saved session to ', '/home/vernwalrahul/projects/LearningRoadmaps/cvae_learner/checkpoints_z8_21Junedata_less/model.ckpt')"
       ]
      },
      {
       "output_type": "stream",
       "stream": "stdout",
       "text": [
        "\n",
        "Iter: 30000"
       ]
      },
      {
       "output_type": "stream",
       "stream": "stdout",
       "text": [
        "\n",
        "Loss: 0.008605918\n",
        "Recon_Loss: 0.001407261\n",
        "('kl_loss = ', 0.007198657)\n",
        "('saved session to ', '/home/vernwalrahul/projects/LearningRoadmaps/cvae_learner/checkpoints_z8_21Junedata_less/model.ckpt')"
       ]
      },
      {
       "output_type": "stream",
       "stream": "stdout",
       "text": [
        "\n",
        "Iter: 31000"
       ]
      },
      {
       "output_type": "stream",
       "stream": "stdout",
       "text": [
        "\n",
        "Loss: 0.008655792\n",
        "Recon_Loss: 0.001485417\n",
        "('kl_loss = ', 0.0071703754)\n",
        "('saved session to ', '/home/vernwalrahul/projects/LearningRoadmaps/cvae_learner/checkpoints_z8_21Junedata_less/model.ckpt')"
       ]
      },
      {
       "output_type": "stream",
       "stream": "stdout",
       "text": [
        "\n",
        "Iter: 32000"
       ]
      },
      {
       "output_type": "stream",
       "stream": "stdout",
       "text": [
        "\n",
        "Loss: 0.008660726\n",
        "Recon_Loss: 0.001481884\n",
        "('kl_loss = ', 0.0071788426)\n",
        "('saved session to ', '/home/vernwalrahul/projects/LearningRoadmaps/cvae_learner/checkpoints_z8_21Junedata_less/model.ckpt')"
       ]
      },
      {
       "output_type": "stream",
       "stream": "stdout",
       "text": [
        "\n",
        "Iter: 33000"
       ]
      },
      {
       "output_type": "stream",
       "stream": "stdout",
       "text": [
        "\n",
        "Loss: 0.008611642\n",
        "Recon_Loss: 0.001438758\n",
        "('kl_loss = ', 0.007172884)\n",
        "('saved session to ', '/home/vernwalrahul/projects/LearningRoadmaps/cvae_learner/checkpoints_z8_21Junedata_less/model.ckpt')"
       ]
      },
      {
       "output_type": "stream",
       "stream": "stdout",
       "text": [
        "\n",
        "Iter: 34000"
       ]
      },
      {
       "output_type": "stream",
       "stream": "stdout",
       "text": [
        "\n",
        "Loss: 0.008711359\n",
        "Recon_Loss: 0.001628886\n",
        "('kl_loss = ', 0.007082472)\n",
        "('saved session to ', '/home/vernwalrahul/projects/LearningRoadmaps/cvae_learner/checkpoints_z8_21Junedata_less/model.ckpt')"
       ]
      },
      {
       "output_type": "stream",
       "stream": "stdout",
       "text": [
        "\n",
        "Iter: 35000"
       ]
      },
      {
       "output_type": "stream",
       "stream": "stdout",
       "text": [
        "\n",
        "Loss: 0.008654498\n",
        "Recon_Loss: 0.001556763\n",
        "('kl_loss = ', 0.0070977346)\n",
        "('saved session to ', '/home/vernwalrahul/projects/LearningRoadmaps/cvae_learner/checkpoints_z8_21Junedata_less/model.ckpt')"
       ]
      },
      {
       "output_type": "stream",
       "stream": "stdout",
       "text": [
        "\n",
        "Iter: 36000"
       ]
      },
      {
       "output_type": "stream",
       "stream": "stdout",
       "text": [
        "\n",
        "Loss: 0.008567889\n",
        "Recon_Loss: 0.001429295\n",
        "('kl_loss = ', 0.007138594)\n",
        "('saved session to ', '/home/vernwalrahul/projects/LearningRoadmaps/cvae_learner/checkpoints_z8_21Junedata_less/model.ckpt')"
       ]
      },
      {
       "output_type": "stream",
       "stream": "stdout",
       "text": [
        "\n",
        "Iter: 37000"
       ]
      },
      {
       "output_type": "stream",
       "stream": "stdout",
       "text": [
        "\n",
        "Loss: 0.008623662\n",
        "Recon_Loss: 0.001531428\n",
        "('kl_loss = ', 0.0070922347)\n",
        "('saved session to ', '/home/vernwalrahul/projects/LearningRoadmaps/cvae_learner/checkpoints_z8_21Junedata_less/model.ckpt')"
       ]
      },
      {
       "output_type": "stream",
       "stream": "stdout",
       "text": [
        "\n",
        "Iter: 38000"
       ]
      },
      {
       "output_type": "stream",
       "stream": "stdout",
       "text": [
        "\n",
        "Loss: 0.00847222\n",
        "Recon_Loss: 0.001452161\n",
        "('kl_loss = ', 0.0070200595)\n",
        "('saved session to ', '/home/vernwalrahul/projects/LearningRoadmaps/cvae_learner/checkpoints_z8_21Junedata_less/model.ckpt')"
       ]
      },
      {
       "output_type": "stream",
       "stream": "stdout",
       "text": [
        "\n",
        "Iter: 39000"
       ]
      },
      {
       "output_type": "stream",
       "stream": "stdout",
       "text": [
        "\n",
        "Loss: 0.00872274\n",
        "Recon_Loss: 0.001502421\n",
        "('kl_loss = ', 0.007220319)\n",
        "('saved session to ', '/home/vernwalrahul/projects/LearningRoadmaps/cvae_learner/checkpoints_z8_21Junedata_less/model.ckpt')"
       ]
      },
      {
       "output_type": "stream",
       "stream": "stdout",
       "text": [
        "\n",
        "Iter: 40000"
       ]
      },
      {
       "output_type": "stream",
       "stream": "stdout",
       "text": [
        "\n",
        "Loss: 0.008623799\n",
        "Recon_Loss: 0.001458079\n",
        "('kl_loss = ', 0.00716572)\n",
        "('saved session to ', '/home/vernwalrahul/projects/LearningRoadmaps/cvae_learner/checkpoints_z8_21Junedata_less/model.ckpt')"
       ]
      },
      {
       "output_type": "stream",
       "stream": "stdout",
       "text": [
        "\n",
        "Iter: 41000"
       ]
      },
      {
       "output_type": "stream",
       "stream": "stdout",
       "text": [
        "\n",
        "Loss: 0.008705996\n",
        "Recon_Loss: 0.001591272\n",
        "('kl_loss = ', 0.0071147243)\n",
        "('saved session to ', '/home/vernwalrahul/projects/LearningRoadmaps/cvae_learner/checkpoints_z8_21Junedata_less/model.ckpt')"
       ]
      },
      {
       "output_type": "stream",
       "stream": "stdout",
       "text": [
        "\n",
        "Iter: 42000"
       ]
      },
      {
       "output_type": "stream",
       "stream": "stdout",
       "text": [
        "\n",
        "Loss: 0.00850231\n",
        "Recon_Loss: 0.001338113\n",
        "('kl_loss = ', 0.0071641975)\n",
        "('saved session to ', '/home/vernwalrahul/projects/LearningRoadmaps/cvae_learner/checkpoints_z8_21Junedata_less/model.ckpt')"
       ]
      },
      {
       "output_type": "stream",
       "stream": "stdout",
       "text": [
        "\n",
        "Iter: 43000"
       ]
      },
      {
       "output_type": "stream",
       "stream": "stdout",
       "text": [
        "\n",
        "Loss: 0.008653782\n",
        "Recon_Loss: 0.001489851\n",
        "('kl_loss = ', 0.0071639316)\n",
        "('saved session to ', '/home/vernwalrahul/projects/LearningRoadmaps/cvae_learner/checkpoints_z8_21Junedata_less/model.ckpt')"
       ]
      },
      {
       "output_type": "stream",
       "stream": "stdout",
       "text": [
        "\n",
        "Iter: 44000"
       ]
      },
      {
       "output_type": "stream",
       "stream": "stdout",
       "text": [
        "\n",
        "Loss: 0.008464535\n",
        "Recon_Loss: 0.001396073\n",
        "('kl_loss = ', 0.0070684617)\n",
        "('saved session to ', '/home/vernwalrahul/projects/LearningRoadmaps/cvae_learner/checkpoints_z8_21Junedata_less/model.ckpt')"
       ]
      },
      {
       "output_type": "stream",
       "stream": "stdout",
       "text": [
        "\n",
        "Iter: 45000"
       ]
      },
      {
       "output_type": "stream",
       "stream": "stdout",
       "text": [
        "\n",
        "Loss: 0.008504754\n",
        "Recon_Loss: 0.001400195\n",
        "('kl_loss = ', 0.007104559)\n",
        "('saved session to ', '/home/vernwalrahul/projects/LearningRoadmaps/cvae_learner/checkpoints_z8_21Junedata_less/model.ckpt')"
       ]
      },
      {
       "output_type": "stream",
       "stream": "stdout",
       "text": [
        "\n",
        "Iter: 46000"
       ]
      },
      {
       "output_type": "stream",
       "stream": "stdout",
       "text": [
        "\n",
        "Loss: 0.008511035\n",
        "Recon_Loss: 0.001419179\n",
        "('kl_loss = ', 0.007091855)\n",
        "('saved session to ', '/home/vernwalrahul/projects/LearningRoadmaps/cvae_learner/checkpoints_z8_21Junedata_less/model.ckpt')"
       ]
      },
      {
       "output_type": "stream",
       "stream": "stdout",
       "text": [
        "\n",
        "Iter: 47000"
       ]
      },
      {
       "output_type": "stream",
       "stream": "stdout",
       "text": [
        "\n",
        "Loss: 0.008577768\n",
        "Recon_Loss: 0.001502406\n",
        "('kl_loss = ', 0.0070753614)\n",
        "('saved session to ', '/home/vernwalrahul/projects/LearningRoadmaps/cvae_learner/checkpoints_z8_21Junedata_less/model.ckpt')"
       ]
      },
      {
       "output_type": "stream",
       "stream": "stdout",
       "text": [
        "\n",
        "Iter: 48000"
       ]
      },
      {
       "output_type": "stream",
       "stream": "stdout",
       "text": [
        "\n",
        "Loss: 0.008470677\n",
        "Recon_Loss: 0.001391474\n",
        "('kl_loss = ', 0.0070792027)\n",
        "('saved session to ', '/home/vernwalrahul/projects/LearningRoadmaps/cvae_learner/checkpoints_z8_21Junedata_less/model.ckpt')"
       ]
      },
      {
       "output_type": "stream",
       "stream": "stdout",
       "text": [
        "\n",
        "Iter: 49000"
       ]
      },
      {
       "output_type": "stream",
       "stream": "stdout",
       "text": [
        "\n",
        "Loss: 0.008522934\n",
        "Recon_Loss: 0.001413081\n",
        "('kl_loss = ', 0.0071098534)\n",
        "('saved session to ', '/home/vernwalrahul/projects/LearningRoadmaps/cvae_learner/checkpoints_z8_21Junedata_less/model.ckpt')"
       ]
      },
      {
       "output_type": "stream",
       "stream": "stdout",
       "text": [
        "\n",
        "Iter: 50000"
       ]
      },
      {
       "output_type": "stream",
       "stream": "stdout",
       "text": [
        "\n",
        "Loss: 0.008552851\n",
        "Recon_Loss: 0.001471064\n",
        "('kl_loss = ', 0.007081787)\n",
        "('saved session to ', '/home/vernwalrahul/projects/LearningRoadmaps/cvae_learner/checkpoints_z8_21Junedata_less/model.ckpt')"
       ]
      },
      {
       "output_type": "stream",
       "stream": "stdout",
       "text": [
        "\n",
        "Iter: 51000"
       ]
      },
      {
       "output_type": "stream",
       "stream": "stdout",
       "text": [
        "\n",
        "Loss: 0.008674759\n",
        "Recon_Loss: 0.001543035\n",
        "('kl_loss = ', 0.0071317246)\n",
        "('saved session to ', '/home/vernwalrahul/projects/LearningRoadmaps/cvae_learner/checkpoints_z8_21Junedata_less/model.ckpt')"
       ]
      },
      {
       "output_type": "stream",
       "stream": "stdout",
       "text": [
        "\n",
        "Iter: 52000"
       ]
      },
      {
       "output_type": "stream",
       "stream": "stdout",
       "text": [
        "\n",
        "Loss: 0.008867348\n",
        "Recon_Loss: 0.00178325\n",
        "('kl_loss = ', 0.0070840977)\n",
        "('saved session to ', '/home/vernwalrahul/projects/LearningRoadmaps/cvae_learner/checkpoints_z8_21Junedata_less/model.ckpt')"
       ]
      },
      {
       "output_type": "stream",
       "stream": "stdout",
       "text": [
        "\n",
        "Iter: 53000"
       ]
      },
      {
       "output_type": "stream",
       "stream": "stdout",
       "text": [
        "\n",
        "Loss: 0.00847449\n",
        "Recon_Loss: 0.001401369\n",
        "('kl_loss = ', 0.00707312)\n",
        "('saved session to ', '/home/vernwalrahul/projects/LearningRoadmaps/cvae_learner/checkpoints_z8_21Junedata_less/model.ckpt')"
       ]
      },
      {
       "output_type": "stream",
       "stream": "stdout",
       "text": [
        "\n",
        "Iter: 54000"
       ]
      },
      {
       "output_type": "stream",
       "stream": "stdout",
       "text": [
        "\n",
        "Loss: 0.008468861\n",
        "Recon_Loss: 0.00144513\n",
        "('kl_loss = ', 0.0070237312)\n",
        "('saved session to ', '/home/vernwalrahul/projects/LearningRoadmaps/cvae_learner/checkpoints_z8_21Junedata_less/model.ckpt')"
       ]
      },
      {
       "output_type": "stream",
       "stream": "stdout",
       "text": [
        "\n",
        "Iter: 55000"
       ]
      },
      {
       "output_type": "stream",
       "stream": "stdout",
       "text": [
        "\n",
        "Loss: 0.008331422\n",
        "Recon_Loss: 0.001344916\n",
        "('kl_loss = ', 0.006986506)\n",
        "('saved session to ', '/home/vernwalrahul/projects/LearningRoadmaps/cvae_learner/checkpoints_z8_21Junedata_less/model.ckpt')"
       ]
      },
      {
       "output_type": "stream",
       "stream": "stdout",
       "text": [
        "\n",
        "Iter: 56000"
       ]
      },
      {
       "output_type": "stream",
       "stream": "stdout",
       "text": [
        "\n",
        "Loss: 0.008466944\n",
        "Recon_Loss: 0.001414225\n",
        "('kl_loss = ', 0.0070527187)\n",
        "('saved session to ', '/home/vernwalrahul/projects/LearningRoadmaps/cvae_learner/checkpoints_z8_21Junedata_less/model.ckpt')"
       ]
      },
      {
       "output_type": "stream",
       "stream": "stdout",
       "text": [
        "\n",
        "Iter: 57000"
       ]
      },
      {
       "output_type": "stream",
       "stream": "stdout",
       "text": [
        "\n",
        "Loss: 0.008452682\n",
        "Recon_Loss: 0.001376734\n",
        "('kl_loss = ', 0.0070759477)\n",
        "('saved session to ', '/home/vernwalrahul/projects/LearningRoadmaps/cvae_learner/checkpoints_z8_21Junedata_less/model.ckpt')"
       ]
      },
      {
       "output_type": "stream",
       "stream": "stdout",
       "text": [
        "\n",
        "Iter: 58000"
       ]
      },
      {
       "output_type": "stream",
       "stream": "stdout",
       "text": [
        "\n",
        "Loss: 0.008309836\n",
        "Recon_Loss: 0.001323842\n",
        "('kl_loss = ', 0.0069859945)\n",
        "('saved session to ', '/home/vernwalrahul/projects/LearningRoadmaps/cvae_learner/checkpoints_z8_21Junedata_less/model.ckpt')"
       ]
      },
      {
       "output_type": "stream",
       "stream": "stdout",
       "text": [
        "\n",
        "Iter: 59000"
       ]
      },
      {
       "output_type": "stream",
       "stream": "stdout",
       "text": [
        "\n",
        "Loss: 0.008628977\n",
        "Recon_Loss: 0.001563836\n",
        "('kl_loss = ', 0.0070651416)\n",
        "('saved session to ', '/home/vernwalrahul/projects/LearningRoadmaps/cvae_learner/checkpoints_z8_21Junedata_less/model.ckpt')"
       ]
      },
      {
       "ename": "KeyboardInterrupt",
       "evalue": "",
       "output_type": "pyerr",
       "traceback": [
        "\u001b[0;31m---------------------------------------------------------------------------\u001b[0m\n\u001b[0;31mKeyboardInterrupt\u001b[0m                         Traceback (most recent call last)",
        "\u001b[0;32m<ipython-input-11-9722c78f6496>\u001b[0m in \u001b[0;36m<module>\u001b[0;34m()\u001b[0m\n\u001b[1;32m     20\u001b[0m     \u001b[0mc_mb\u001b[0m \u001b[0;34m=\u001b[0m \u001b[0mc_train1\u001b[0m\u001b[0;34m[\u001b[0m\u001b[0mbatch_elements\u001b[0m\u001b[0;34m,\u001b[0m\u001b[0;34m:\u001b[0m\u001b[0;34m]\u001b[0m\u001b[0;34m\u001b[0m\u001b[0m\n\u001b[1;32m     21\u001b[0m \u001b[0;34m\u001b[0m\u001b[0m\n\u001b[0;32m---> 22\u001b[0;31m     \u001b[0m_\u001b[0m\u001b[0;34m,\u001b[0m \u001b[0mloss\u001b[0m\u001b[0;34m,\u001b[0m \u001b[0mr\u001b[0m \u001b[0;34m=\u001b[0m \u001b[0msess\u001b[0m\u001b[0;34m.\u001b[0m\u001b[0mrun\u001b[0m\u001b[0;34m(\u001b[0m\u001b[0;34m[\u001b[0m\u001b[0mtrain_step\u001b[0m\u001b[0;34m,\u001b[0m \u001b[0mcvae_loss\u001b[0m\u001b[0;34m,\u001b[0m \u001b[0mrecon_loss\u001b[0m\u001b[0;34m]\u001b[0m\u001b[0;34m,\u001b[0m \u001b[0mfeed_dict\u001b[0m\u001b[0;34m=\u001b[0m\u001b[0;34m{\u001b[0m\u001b[0mX\u001b[0m\u001b[0;34m:\u001b[0m \u001b[0mX_mb\u001b[0m\u001b[0;34m,\u001b[0m \u001b[0mc\u001b[0m\u001b[0;34m:\u001b[0m \u001b[0mc_mb\u001b[0m\u001b[0;34m}\u001b[0m\u001b[0;34m)\u001b[0m\u001b[0;34m\u001b[0m\u001b[0m\n\u001b[0m\u001b[1;32m     23\u001b[0m \u001b[0;34m\u001b[0m\u001b[0m\n\u001b[1;32m     24\u001b[0m \u001b[0;31m#     _, loss, m, s = sess.run([train_step, cvae_loss, z_mu, z_sigma], feed_dict={X: X_mb, c: c_mb})\u001b[0m\u001b[0;34m\u001b[0m\u001b[0;34m\u001b[0m\u001b[0m\n",
        "\u001b[0;32m/usr/local/lib/python2.7/dist-packages/tensorflow/python/client/session.pyc\u001b[0m in \u001b[0;36mrun\u001b[0;34m(self, fetches, feed_dict, options, run_metadata)\u001b[0m\n\u001b[1;32m    898\u001b[0m     \u001b[0;32mtry\u001b[0m\u001b[0;34m:\u001b[0m\u001b[0;34m\u001b[0m\u001b[0m\n\u001b[1;32m    899\u001b[0m       result = self._run(None, fetches, feed_dict, options_ptr,\n\u001b[0;32m--> 900\u001b[0;31m                          run_metadata_ptr)\n\u001b[0m\u001b[1;32m    901\u001b[0m       \u001b[0;32mif\u001b[0m \u001b[0mrun_metadata\u001b[0m\u001b[0;34m:\u001b[0m\u001b[0;34m\u001b[0m\u001b[0m\n\u001b[1;32m    902\u001b[0m         \u001b[0mproto_data\u001b[0m \u001b[0;34m=\u001b[0m \u001b[0mtf_session\u001b[0m\u001b[0;34m.\u001b[0m\u001b[0mTF_GetBuffer\u001b[0m\u001b[0;34m(\u001b[0m\u001b[0mrun_metadata_ptr\u001b[0m\u001b[0;34m)\u001b[0m\u001b[0;34m\u001b[0m\u001b[0m\n",
        "\u001b[0;32m/usr/local/lib/python2.7/dist-packages/tensorflow/python/client/session.pyc\u001b[0m in \u001b[0;36m_run\u001b[0;34m(self, handle, fetches, feed_dict, options, run_metadata)\u001b[0m\n\u001b[1;32m   1133\u001b[0m     \u001b[0;32mif\u001b[0m \u001b[0mfinal_fetches\u001b[0m \u001b[0;32mor\u001b[0m \u001b[0mfinal_targets\u001b[0m \u001b[0;32mor\u001b[0m \u001b[0;34m(\u001b[0m\u001b[0mhandle\u001b[0m \u001b[0;32mand\u001b[0m \u001b[0mfeed_dict_tensor\u001b[0m\u001b[0;34m)\u001b[0m\u001b[0;34m:\u001b[0m\u001b[0;34m\u001b[0m\u001b[0m\n\u001b[1;32m   1134\u001b[0m       results = self._do_run(handle, final_targets, final_fetches,\n\u001b[0;32m-> 1135\u001b[0;31m                              feed_dict_tensor, options, run_metadata)\n\u001b[0m\u001b[1;32m   1136\u001b[0m     \u001b[0;32melse\u001b[0m\u001b[0;34m:\u001b[0m\u001b[0;34m\u001b[0m\u001b[0m\n\u001b[1;32m   1137\u001b[0m       \u001b[0mresults\u001b[0m \u001b[0;34m=\u001b[0m \u001b[0;34m[\u001b[0m\u001b[0;34m]\u001b[0m\u001b[0;34m\u001b[0m\u001b[0m\n",
        "\u001b[0;32m/usr/local/lib/python2.7/dist-packages/tensorflow/python/client/session.pyc\u001b[0m in \u001b[0;36m_do_run\u001b[0;34m(self, handle, target_list, fetch_list, feed_dict, options, run_metadata)\u001b[0m\n\u001b[1;32m   1314\u001b[0m     \u001b[0;32mif\u001b[0m \u001b[0mhandle\u001b[0m \u001b[0;32mis\u001b[0m \u001b[0mNone\u001b[0m\u001b[0;34m:\u001b[0m\u001b[0;34m\u001b[0m\u001b[0m\n\u001b[1;32m   1315\u001b[0m       return self._do_call(_run_fn, feeds, fetches, targets, options,\n\u001b[0;32m-> 1316\u001b[0;31m                            run_metadata)\n\u001b[0m\u001b[1;32m   1317\u001b[0m     \u001b[0;32melse\u001b[0m\u001b[0;34m:\u001b[0m\u001b[0;34m\u001b[0m\u001b[0m\n\u001b[1;32m   1318\u001b[0m       \u001b[0;32mreturn\u001b[0m \u001b[0mself\u001b[0m\u001b[0;34m.\u001b[0m\u001b[0m_do_call\u001b[0m\u001b[0;34m(\u001b[0m\u001b[0m_prun_fn\u001b[0m\u001b[0;34m,\u001b[0m \u001b[0mhandle\u001b[0m\u001b[0;34m,\u001b[0m \u001b[0mfeeds\u001b[0m\u001b[0;34m,\u001b[0m \u001b[0mfetches\u001b[0m\u001b[0;34m)\u001b[0m\u001b[0;34m\u001b[0m\u001b[0m\n",
        "\u001b[0;32m/usr/local/lib/python2.7/dist-packages/tensorflow/python/client/session.pyc\u001b[0m in \u001b[0;36m_do_call\u001b[0;34m(self, fn, *args)\u001b[0m\n\u001b[1;32m   1320\u001b[0m   \u001b[0;32mdef\u001b[0m \u001b[0m_do_call\u001b[0m\u001b[0;34m(\u001b[0m\u001b[0mself\u001b[0m\u001b[0;34m,\u001b[0m \u001b[0mfn\u001b[0m\u001b[0;34m,\u001b[0m \u001b[0;34m*\u001b[0m\u001b[0margs\u001b[0m\u001b[0;34m)\u001b[0m\u001b[0;34m:\u001b[0m\u001b[0;34m\u001b[0m\u001b[0m\n\u001b[1;32m   1321\u001b[0m     \u001b[0;32mtry\u001b[0m\u001b[0;34m:\u001b[0m\u001b[0;34m\u001b[0m\u001b[0m\n\u001b[0;32m-> 1322\u001b[0;31m       \u001b[0;32mreturn\u001b[0m \u001b[0mfn\u001b[0m\u001b[0;34m(\u001b[0m\u001b[0;34m*\u001b[0m\u001b[0margs\u001b[0m\u001b[0;34m)\u001b[0m\u001b[0;34m\u001b[0m\u001b[0m\n\u001b[0m\u001b[1;32m   1323\u001b[0m     \u001b[0;32mexcept\u001b[0m \u001b[0merrors\u001b[0m\u001b[0;34m.\u001b[0m\u001b[0mOpError\u001b[0m \u001b[0;32mas\u001b[0m \u001b[0me\u001b[0m\u001b[0;34m:\u001b[0m\u001b[0;34m\u001b[0m\u001b[0m\n\u001b[1;32m   1324\u001b[0m       \u001b[0mmessage\u001b[0m \u001b[0;34m=\u001b[0m \u001b[0mcompat\u001b[0m\u001b[0;34m.\u001b[0m\u001b[0mas_text\u001b[0m\u001b[0;34m(\u001b[0m\u001b[0me\u001b[0m\u001b[0;34m.\u001b[0m\u001b[0mmessage\u001b[0m\u001b[0;34m)\u001b[0m\u001b[0;34m\u001b[0m\u001b[0m\n",
        "\u001b[0;32m/usr/local/lib/python2.7/dist-packages/tensorflow/python/client/session.pyc\u001b[0m in \u001b[0;36m_run_fn\u001b[0;34m(feed_dict, fetch_list, target_list, options, run_metadata)\u001b[0m\n\u001b[1;32m   1305\u001b[0m       \u001b[0mself\u001b[0m\u001b[0;34m.\u001b[0m\u001b[0m_extend_graph\u001b[0m\u001b[0;34m(\u001b[0m\u001b[0;34m)\u001b[0m\u001b[0;34m\u001b[0m\u001b[0m\n\u001b[1;32m   1306\u001b[0m       return self._call_tf_sessionrun(\n\u001b[0;32m-> 1307\u001b[0;31m           options, feed_dict, fetch_list, target_list, run_metadata)\n\u001b[0m\u001b[1;32m   1308\u001b[0m \u001b[0;34m\u001b[0m\u001b[0m\n\u001b[1;32m   1309\u001b[0m     \u001b[0;32mdef\u001b[0m \u001b[0m_prun_fn\u001b[0m\u001b[0;34m(\u001b[0m\u001b[0mhandle\u001b[0m\u001b[0;34m,\u001b[0m \u001b[0mfeed_dict\u001b[0m\u001b[0;34m,\u001b[0m \u001b[0mfetch_list\u001b[0m\u001b[0;34m)\u001b[0m\u001b[0;34m:\u001b[0m\u001b[0;34m\u001b[0m\u001b[0m\n",
        "\u001b[0;32m/usr/local/lib/python2.7/dist-packages/tensorflow/python/client/session.pyc\u001b[0m in \u001b[0;36m_call_tf_sessionrun\u001b[0;34m(self, options, feed_dict, fetch_list, target_list, run_metadata)\u001b[0m\n\u001b[1;32m   1407\u001b[0m       return tf_session.TF_SessionRun_wrapper(\n\u001b[1;32m   1408\u001b[0m           \u001b[0mself\u001b[0m\u001b[0;34m.\u001b[0m\u001b[0m_session\u001b[0m\u001b[0;34m,\u001b[0m \u001b[0moptions\u001b[0m\u001b[0;34m,\u001b[0m \u001b[0mfeed_dict\u001b[0m\u001b[0;34m,\u001b[0m \u001b[0mfetch_list\u001b[0m\u001b[0;34m,\u001b[0m \u001b[0mtarget_list\u001b[0m\u001b[0;34m,\u001b[0m\u001b[0;34m\u001b[0m\u001b[0m\n\u001b[0;32m-> 1409\u001b[0;31m           run_metadata)\n\u001b[0m\u001b[1;32m   1410\u001b[0m     \u001b[0;32melse\u001b[0m\u001b[0;34m:\u001b[0m\u001b[0;34m\u001b[0m\u001b[0m\n\u001b[1;32m   1411\u001b[0m       \u001b[0;32mwith\u001b[0m \u001b[0merrors\u001b[0m\u001b[0;34m.\u001b[0m\u001b[0mraise_exception_on_not_ok_status\u001b[0m\u001b[0;34m(\u001b[0m\u001b[0;34m)\u001b[0m \u001b[0;32mas\u001b[0m \u001b[0mstatus\u001b[0m\u001b[0;34m:\u001b[0m\u001b[0;34m\u001b[0m\u001b[0m\n",
        "\u001b[0;31mKeyboardInterrupt\u001b[0m: "
       ]
      },
      {
       "output_type": "stream",
       "stream": "stdout",
       "text": [
        "\n"
       ]
      }
     ],
     "prompt_number": 11
    },
    {
     "cell_type": "code",
     "collapsed": false,
     "input": [
      "print(c,z)\n",
      "def create_samples(G, directory):\n",
      "    start = np.loadtxt(directory+\"/start_node.txt\")\n",
      "    goal = np.loadtxt(directory+\"/goal_node.txt\")\n",
      "    cond = np.loadtxt(directory+\"/conditions.txt\")\n",
      "#     cond = np.array([cond[23]])\n",
      "    def state_to_numpy(state):\n",
      "        strlist = state.split()\n",
      "        val_list = [float(s) for s in strlist]\n",
      "        return np.array(val_list)\n",
      "    \n",
      "    # cond = cond.split(\",\")\n",
      "    path_nodes = []\n",
      "    i = 0\n",
      "    c_samples = []\n",
      "    with open(directory + \"/path_nodes.txt\", 'r') as file:\n",
      "        lines  = file.readlines()\n",
      "        for line in lines:\n",
      "            line = line.strip('\\n')\n",
      "#             print(line)\n",
      "#             print(\"\\n\\n\")\n",
      "            if(not line == '-1'):\n",
      "                s = state_to_numpy(G.node[str(int(start[i]))]['state'])\n",
      "                g = state_to_numpy(G.node[str(int(goal[i]))]['state'])\n",
      "                path_nodes = str(line).split(\",\")\n",
      "                # print(path_nodes)\n",
      "                for path_node in path_nodes:\n",
      "                    node_conf = state_to_numpy(G.node[path_node]['state'])\n",
      "                    curr_node = np.array([])\n",
      "                    # print(\"Data = \",node_conf, s, g, cond)\n",
      "#                     print(\"\\n\")\n",
      "                    curr_node = np.concatenate((s, g, cond))\n",
      "                    c_samples.append(curr_node)\n",
      "    return np.array(c_samples)\n",
      "print(\"c, z = \",c, z)"
     ],
     "language": "python",
     "metadata": {},
     "outputs": [
      {
       "output_type": "stream",
       "stream": "stdout",
       "text": [
        "(<tf.Tensor 'Placeholder_3:0' shape=(?, 48) dtype=float32>, <tf.Tensor 'add_1:0' shape=(?, 6) dtype=float32>)\n",
        "('c, z = ', <tf.Tensor 'Placeholder_3:0' shape=(?, 48) dtype=float32>, <tf.Tensor 'add_1:0' shape=(?, 6) dtype=float32>)\n"
       ]
      }
     ],
     "prompt_number": 19
    },
    {
     "cell_type": "code",
     "collapsed": false,
     "input": [
      "num_v = [200, 300, 400, 500]\n",
      "c_final = []\n",
      "print(\"c, z = \", c, z)\n",
      "import networkx as nx\n",
      "from random import choice\n",
      "G = nx.read_graphml(\"graphs/modified_graph_30000.graphml\")\n",
      "\n",
      "dire = [\"test_data_11June/T1/4\", \"test_data_11June/T1/7\", \"test_data_11June/T2/0\", \"test_data_11June/T2/4\", \"test_data_11June/T2/7\", \"test_data_11June/T2/14\"]\n",
      "# dire = [\"temp_data/T2/5\", \"temp_data/T1/5\"]\n",
      "for num_viz in num_v:\n",
      "    for directory in dire:\n",
      "        c_final = []\n",
      "        c_samples = np.float32(create_samples(G, directory))\n",
      "    \n",
      "        for i in range(num_viz):\n",
      "            c_final.append(choice(c_samples))\n",
      "        z_final = np.random.randn(num_viz,z_dim)\n",
      "    \n",
      "        c_final = np.array(c_final)\n",
      "        print(\"c_final_dim = \",c_final.shape)\n",
      "        print(\"z_dim = \",z_final.shape)\n",
      "        # directly sample from the latent space (preferred, what we will use in the end)\n",
      "        y_viz, z_viz = sess.run([y, z], feed_dict={z: z_final, c: c_final})\n",
      "    \n",
      "        print(y_viz)\n",
      "        np.savetxt(directory+\"/output_samples_z\"+str(z_dim)+\"_n\"+str(num_viz)+\".txt\", y_viz, delimiter=\" \", fmt=\"%s\")"
     ],
     "language": "python",
     "metadata": {},
     "outputs": [
      {
       "output_type": "stream",
       "stream": "stderr",
       "text": [
        "/usr/lib/python2.7/dist-packages/scipy/spatial/__init__.py:90: RuntimeWarning: numpy.dtype size changed, may indicate binary incompatibility\n",
        "  from .ckdtree import *\n",
        "/usr/lib/python2.7/dist-packages/scipy/spatial/__init__.py:91: RuntimeWarning: numpy.dtype size changed, may indicate binary incompatibility\n",
        "  from .qhull import *\n"
       ]
      },
      {
       "output_type": "stream",
       "stream": "stdout",
       "text": [
        "('c, z = ', <tf.Tensor 'Placeholder_1:0' shape=(?, 46) dtype=float32>, <tf.Tensor 'add:0' shape=(?, 6) dtype=float32>)\n",
        "('c_final_dim = ', (200, 46))"
       ]
      },
      {
       "output_type": "stream",
       "stream": "stdout",
       "text": [
        "\n",
        "('z_dim = ', (200, 6))\n",
        "[[ 4.3858886   0.34247303  2.2838013  ... -3.3539922   0.3500365\n",
        "   0.8840044 ]\n",
        " [ 1.9134026  -2.3107345  -2.7373729  ... -1.7544674   1.167941\n",
        "  -3.1097145 ]\n",
        " [-0.06227186 -0.8497866   0.09701348 ... -2.5975764   1.6144634\n",
        "  -0.47727787]\n",
        " ...\n",
        " [ 2.243677   -0.50401115 -0.33570597 ... -2.1474974   0.53093666\n",
        "  -2.410282  ]\n",
        " [ 3.5663154  -0.5198539  -0.4479488  ...  0.1741155   0.966961\n",
        "   0.97453594]\n",
        " [ 2.0107136  -1.4369714  -0.06774785 ... -3.7987247   1.893209\n",
        "  -0.35732245]]\n",
        "('c_final_dim = ', (200, 46))\n",
        "('z_dim = ', (200, 6))\n",
        "[[ 3.70557046e+00 -1.71269500e+00  9.25998807e-01 ... -1.12546360e+00\n",
        "   4.58844118e-02 -5.90769351e-01]\n",
        " [ 2.10830688e+00 -1.23891699e+00 -1.45963597e+00 ... -3.06387877e+00\n",
        "  -2.20162436e-01  1.07671201e+00]\n",
        " [ 2.93454027e+00 -1.36205244e+00  2.38734961e+00 ... -3.26987314e+00\n",
        "  -1.64030993e+00 -3.91909152e-01]\n",
        " ...\n",
        " [ 2.26846480e+00 -2.93010503e-01  2.60195998e-03 ... -2.41507983e+00\n",
        "  -5.68134069e-01 -1.00599861e+00]\n",
        " [ 5.04656744e+00  5.91295660e-01  8.80315781e-01 ... -3.15047169e+00\n",
        "  -1.80450395e-01  5.64829111e-02]\n",
        " [ 4.01044846e+00 -2.00588799e+00 -1.08500935e-01 ...  8.83157402e-02\n",
        "  -4.36292768e-01 -1.16915262e+00]]\n",
        "('c_final_dim = ', (200, 46))"
       ]
      },
      {
       "output_type": "stream",
       "stream": "stdout",
       "text": [
        "\n",
        "('z_dim = ', (200, 6))\n",
        "[[ 0.7429101   0.47966272  1.6986259  ... -3.0934937  -0.45114315\n",
        "   0.5565638 ]\n",
        " [ 1.5368837   1.0841619  -2.0656269  ... -4.1611958   0.9513948\n",
        "  -0.1366077 ]\n",
        " [ 2.981434    1.2775161  -0.8279566  ... -1.4511775   1.5712795\n",
        "  -1.1525421 ]\n",
        " ...\n",
        " [ 1.6243216   0.1386629  -3.531161   ... -2.3362186  -0.71522564\n",
        "  -0.9392093 ]\n",
        " [ 4.010848    0.94170815  0.02344343 ... -2.4408453   0.7834971\n",
        "  -1.2895414 ]\n",
        " [ 4.7957177  -0.87391335 -1.0909809  ... -0.75612503  0.2296841\n",
        "   0.34877646]]\n",
        "('c_final_dim = ', (200, 46))\n",
        "('z_dim = ', (200, 6))\n",
        "[[ 4.0773306   1.5104488   0.03843484 ... -3.2352715   0.8920216\n",
        "  -0.97633725]\n",
        " [ 4.0001097  -0.43871674  0.4630251  ... -2.455049   -0.8009342\n",
        "   0.902882  ]\n",
        " [ 4.2859044  -1.1279577   2.2193122  ... -2.6863952   0.29047891\n",
        "  -1.5943456 ]\n",
        " ...\n",
        " [ 2.9900968  -0.41467777 -0.08154488 ... -0.1553211   1.0830532\n",
        "  -0.9234578 ]\n",
        " [ 2.9319322   0.12554295  0.34178156 ... -1.6562326   0.4555507\n",
        "  -0.35285813]\n",
        " [ 4.2188373   0.48343936 -0.17841616 ... -1.925891    1.4531193\n",
        "   0.37132102]]\n",
        "('c_final_dim = ', (200, 46))"
       ]
      },
      {
       "output_type": "stream",
       "stream": "stdout",
       "text": [
        "\n",
        "('z_dim = ', (200, 6))\n",
        "[[ 3.5784307  -0.3099071  -1.6683003  ...  0.2034499   1.2070216\n",
        "   0.309196  ]\n",
        " [ 3.6185358   0.76858026 -1.0346335  ...  0.29032862 -0.47971457\n",
        "  -0.68996084]\n",
        " [ 1.4781048   1.8180667   1.7080542  ... -2.6209958  -0.05059837\n",
        "  -1.3210301 ]\n",
        " ...\n",
        " [ 0.96859777 -0.79718643  1.6469102  ... -2.3379269   1.1879541\n",
        "   1.6018151 ]\n",
        " [ 3.49771    -0.7681528  -1.0466295  ... -0.49508125  0.6383747\n",
        "  -0.854099  ]\n",
        " [ 3.2377942  -1.3693031   1.7843373  ... -4.063361    0.14973712\n",
        "   0.37945056]]\n",
        "('c_final_dim = ', (200, 46))\n",
        "('z_dim = ', (200, 6))\n",
        "[[ 4.2157307   0.02404748 -0.01314367 ... -1.4378728   0.5317241\n",
        "  -0.2142357 ]\n",
        " [ 1.7482022   1.1030418   0.2859821  ... -0.27480996 -1.2362671\n",
        "   0.91559285]\n",
        " [ 3.0738194   1.3951854  -0.5895963  ... -3.512064   -0.38823175\n",
        "  -1.7534188 ]\n",
        " ...\n",
        " [ 3.064117    0.08172172 -1.0917056  ...  0.9537526   0.31405866\n",
        "   1.0066465 ]\n",
        " [ 1.9256393  -0.18986525  0.08008604 ... -3.6778328  -0.40189773\n",
        "  -0.4508419 ]\n",
        " [ 3.406906   -1.0353805  -0.19113117 ... -2.8866346  -0.4977023\n",
        "  -0.68888956]]"
       ]
      },
      {
       "output_type": "stream",
       "stream": "stdout",
       "text": [
        "\n",
        "('c_final_dim = ', (300, 46))\n",
        "('z_dim = ', (300, 6))\n",
        "[[ 2.1884358  -0.05495213  0.23450576 ...  1.2077467  -1.2370574\n",
        "  -1.4892429 ]\n",
        " [ 3.5255616  -2.6022613   1.085136   ... -3.788998    0.31226593\n",
        "   1.1973039 ]\n",
        " [ 0.9801482  -0.26315355 -1.1356212  ... -1.3465878   1.8247601\n",
        "  -0.35866442]\n",
        " ...\n",
        " [ 2.8388283   0.42891815 -0.88814896 ... -2.4637275  -0.5279019\n",
        "   2.0849385 ]\n",
        " [ 1.3585995  -0.20407008 -0.5044144  ... -4.140958    1.4238615\n",
        "   1.4433578 ]\n",
        " [ 1.2576296  -0.41233793 -0.44322598 ... -3.696587    0.97257316\n",
        "   1.6807966 ]]\n",
        "('c_final_dim = ', (300, 46))\n",
        "('z_dim = ', (300, 6))\n",
        "[[ 5.037844   -2.2237506   0.33664715 ... -3.8717217  -1.8133928\n",
        "  -0.38321257]\n",
        " [ 3.7652504  -1.0604869   0.749685   ... -4.312212   -0.88594973\n",
        "  -2.199203  ]\n",
        " [ 2.3034554   0.5183279   1.8823918  ... -1.8800706  -0.82995987\n",
        "   2.4834332 ]\n",
        " ...\n",
        " [ 4.1939206   0.7235108  -0.6177529  ... -1.1582352  -0.8931714\n",
        "  -4.5483212 ]\n",
        " [ 5.7420373   0.27202293 -0.63082165 ... -2.5944257  -0.11865302\n",
        "  -2.6689813 ]\n",
        " [ 3.1779912  -0.52137536 -1.389527   ... -1.8979911   0.6192008\n",
        "  -1.4932777 ]]"
       ]
      },
      {
       "output_type": "stream",
       "stream": "stdout",
       "text": [
        "\n",
        "('c_final_dim = ', (300, 46))\n",
        "('z_dim = ', (300, 6))\n",
        "[[ 4.320853    1.2665427   0.5627271  ...  0.51576483  0.64104223\n",
        "  -0.27295855]\n",
        " [ 2.5763016   0.24470834 -0.67731804 ... -0.11971579 -0.7731061\n",
        "  -0.7939672 ]\n",
        " [ 3.1578352   0.20404266  1.1918663  ...  1.5081868  -1.1673409\n",
        "   2.5577555 ]\n",
        " ...\n",
        " [ 3.0215561   1.5302088   2.0470479  ... -2.101365   -0.0318911\n",
        "   0.24292457]\n",
        " [ 4.069471   -2.1720479  -0.67304635 ... -2.2147222   0.03811051\n",
        "  -0.35612416]\n",
        " [ 2.8724174   0.66695076  1.3015702  ... -0.68350405  0.7233649\n",
        "   1.6459408 ]]\n",
        "('c_final_dim = ', (300, 46))"
       ]
      },
      {
       "output_type": "stream",
       "stream": "stdout",
       "text": [
        "\n",
        "('z_dim = ', (300, 6))\n",
        "[[ 4.403949   -1.1025269  -1.7100912  ... -2.0897903  -0.7684017\n",
        "  -1.764413  ]\n",
        " [ 2.8858414   0.3885459   0.15267326 ... -2.1278038   1.1235136\n",
        "   0.69908583]\n",
        " [ 3.0694263  -0.8631878   0.2137826  ... -3.8080773  -0.53966725\n",
        "   0.51694894]\n",
        " ...\n",
        " [ 4.2792554   0.2414587   2.0102377  ... -0.8741928   0.6391576\n",
        "  -1.119909  ]\n",
        " [ 1.9967443   0.9615224  -1.7198101  ... -3.3361228  -1.5161334\n",
        "  -0.802396  ]\n",
        " [ 5.2364936   1.1256909   1.5386723  ... -2.2427788  -0.43869156\n",
        "  -0.20773557]]\n",
        "('c_final_dim = ', (300, 46))"
       ]
      },
      {
       "output_type": "stream",
       "stream": "stdout",
       "text": [
        "\n",
        "('z_dim = ', (300, 6))\n",
        "[[ 1.44339     0.73707515 -0.2565367  ... -2.6967492   0.7182801\n",
        "   0.742475  ]\n",
        " [ 4.514009    0.6413585   0.86679214 ... -3.1861303   0.11735288\n",
        "  -2.0187879 ]\n",
        " [ 3.2812757   1.1102546  -0.875853   ... -2.0055351   0.31989574\n",
        "  -2.5933995 ]\n",
        " ...\n",
        " [ 0.7089173   0.17854312 -0.09983956 ... -1.6156746   1.1357245\n",
        "  -1.3697067 ]\n",
        " [ 2.4905126   0.15202565 -0.31537056 ... -2.6380405   0.691101\n",
        "  -0.08030039]\n",
        " [ 3.3424675  -0.14445059  1.7715259  ...  0.30376083  0.9505486\n",
        "   0.29455024]]\n",
        "('c_final_dim = ', (300, 46))\n",
        "('z_dim = ', (300, 6))\n",
        "[[ 3.0628655  -0.26574937 -1.6786343  ... -4.536029   -0.18089835\n",
        "  -0.11233118]\n",
        " [ 5.109625   -0.1485327  -1.1351824  ... -1.2340133   0.76292443\n",
        "   0.67359275]\n",
        " [ 4.31576     0.36702326  1.4331436  ... -2.7369282  -1.1843101\n",
        "  -0.18931073]\n",
        " ...\n",
        " [ 4.6053967  -0.3443785   0.23370086 ...  0.20937543 -0.9660395\n",
        "   1.6522907 ]\n",
        " [ 2.2314808   0.43695703  2.7984796  ... -4.687252    0.21355174\n",
        "   1.270377  ]\n",
        " [ 3.9597023   0.39809301 -0.26795727 ... -0.49334347  1.0759747\n",
        "  -2.1901097 ]]\n",
        "('c_final_dim = ', (400, 46))"
       ]
      },
      {
       "output_type": "stream",
       "stream": "stdout",
       "text": [
        "\n",
        "('z_dim = ', (400, 6))\n",
        "[[ 3.097853   -0.5740965   0.36476645 ... -1.4600607  -1.3982941\n",
        "   0.423823  ]\n",
        " [ 4.8304567  -2.0741537   1.6470823  ... -1.7412475  -0.8258417\n",
        "   2.6753602 ]\n",
        " [ 3.4654243   0.23323892 -1.8365096  ... -1.8859109   0.7369323\n",
        "   1.4841596 ]\n",
        " ...\n",
        " [ 1.8618387  -0.924483   -1.5382607  ... -1.7834262   0.00825576\n",
        "   2.219491  ]\n",
        " [ 2.581778    0.4217241  -0.04984205 ... -0.8118949  -1.0968066\n",
        "  -0.4192021 ]\n",
        " [ 0.9415411  -1.0939778  -0.27022862 ... -4.8030553   2.0631757\n",
        "   0.14823118]]\n",
        "('c_final_dim = ', (400, 46))\n",
        "('z_dim = ', (400, 6))\n",
        "[[ 4.4170117  -1.2837446   1.9437466  ... -3.2396064  -0.32480374\n",
        "  -0.955027  ]\n",
        " [ 3.993868    0.08659221 -0.979629   ... -2.4370742   0.9102051\n",
        "  -1.5201302 ]\n",
        " [ 6.424757    0.22746004  1.0761019  ... -2.7607675  -1.2060424\n",
        "  -3.5575986 ]\n",
        " ...\n",
        " [ 5.5563025  -0.47069654  1.10866    ... -2.2018113  -0.19938649\n",
        "  -1.0407263 ]\n",
        " [ 4.775092    1.6267811   1.9598072  ...  0.8225869  -1.2841798\n",
        "  -2.802559  ]\n",
        " [ 4.541046   -0.9965313  -0.15835015 ... -1.9872807  -0.16297539\n",
        "  -1.1021327 ]]"
       ]
      },
      {
       "output_type": "stream",
       "stream": "stdout",
       "text": [
        "\n",
        "('c_final_dim = ', (400, 46))\n",
        "('z_dim = ', (400, 6))\n",
        "[[ 2.8238244  -0.6290048  -1.5880481  ... -1.4268869  -0.67239696\n",
        "   0.8816217 ]\n",
        " [ 1.8431292   1.7013375   0.5305796  ... -1.1669849  -1.6093543\n",
        "   2.637226  ]\n",
        " [ 3.3790786   0.18209644 -1.5193928  ... -1.1442585   1.0775212\n",
        "   0.62860185]\n",
        " ...\n",
        " [ 4.0191073  -0.9000518   1.5256186  ...  1.5262686   0.29769892\n",
        "   1.6714591 ]\n",
        " [ 3.056792   -0.6955356  -0.04432467 ... -3.2002106  -1.4092506\n",
        "   0.6840835 ]\n",
        " [ 3.4338145   0.24198262  2.2683048  ... -2.6663933  -0.09936691\n",
        "   0.95666546]]\n",
        "('c_final_dim = ', (400, 46))"
       ]
      },
      {
       "output_type": "stream",
       "stream": "stdout",
       "text": [
        "\n",
        "('z_dim = ', (400, 6))\n",
        "[[ 2.1645527   0.5918372   2.6493745  ... -0.88947207 -0.00686728\n",
        "  -2.5347266 ]\n",
        " [ 4.559253   -0.25755945  0.13909362 ... -2.979618   -2.319641\n",
        "  -0.48522446]\n",
        " [ 1.7092649   0.46245813 -0.5939208  ... -1.9892591   0.2677492\n",
        "   0.39737538]\n",
        " ...\n",
        " [ 3.324132    1.3263818   2.708752   ... -1.9844452   0.6136928\n",
        "  -1.5689939 ]\n",
        " [ 3.1287897   1.20547    -1.1502969  ... -0.7516998  -3.4101775\n",
        "   1.6626421 ]\n",
        " [ 2.1803076  -0.28749493  0.1470503  ... -1.0680451  -0.37112528\n",
        "  -0.80482614]]\n",
        "('c_final_dim = ', (400, 46))\n",
        "('z_dim = ', (400, 6))\n",
        "[[ 1.1007936   0.26212397 -1.6765246  ... -1.5403446   0.49147463\n",
        "  -1.994847  ]\n",
        " [ 2.116002   -0.03265595 -0.28054753 ... -1.0737046   0.66243\n",
        "  -1.3609809 ]\n",
        " [ 1.1047524   0.3773395   0.40013874 ... -0.8688694   1.0946504\n",
        "  -1.0775274 ]\n",
        " ...\n",
        " [ 3.6270525  -0.57028425 -1.0611349  ... -2.0754614   0.40388215\n",
        "  -0.9961167 ]\n",
        " [ 1.6440326  -1.0135534   0.08246557 ...  0.71052915  0.8093473\n",
        "  -0.31315264]\n",
        " [ 3.067074    1.4482613  -0.8656839  ... -3.4558735   0.72769904\n",
        "   1.0922263 ]]"
       ]
      },
      {
       "output_type": "stream",
       "stream": "stdout",
       "text": [
        "\n",
        "('c_final_dim = ', (400, 46))\n",
        "('z_dim = ', (400, 6))\n",
        "[[ 5.415853   -0.52906233 -1.0905011  ...  0.27727944  0.26114517\n",
        "   1.6977618 ]\n",
        " [ 5.1997848  -0.8412915   2.5553155  ... -2.119823    0.04467938\n",
        "  -1.4484277 ]\n",
        " [ 4.3742743  -0.20891128 -1.8684576  ... -1.8823266  -0.8794637\n",
        "  -0.62277615]\n",
        " ...\n",
        " [ 6.4783416  -1.3182338  -0.34337923 ... -1.5620757   0.2893623\n",
        "  -0.93044204]\n",
        " [ 2.6633337  -0.5790754   0.87393683 ... -2.1480153  -0.7555077\n",
        "   0.629044  ]\n",
        " [ 4.556836   -0.28960958 -0.19584441 ... -3.676937    0.38994253\n",
        "  -0.12560245]]\n",
        "('c_final_dim = ', (500, 46))"
       ]
      },
      {
       "output_type": "stream",
       "stream": "stdout",
       "text": [
        "\n",
        "('z_dim = ', (500, 6))\n",
        "[[ 3.0634453   0.46372512  0.44531706 ...  1.2573928   0.7301924\n",
        "  -0.04129031]\n",
        " [ 2.236002   -0.94250065 -0.25041083 ...  1.0639491  -0.41437757\n",
        "   1.1533881 ]\n",
        " [ 1.6888183  -0.16548137  0.05483171 ... -1.8014715   1.4332749\n",
        "   0.23051563]\n",
        " ...\n",
        " [ 3.25416    -2.4574296  -3.076894   ... -1.6488229  -0.01942049\n",
        "  -1.8884149 ]\n",
        " [ 2.375852   -0.43396604 -1.4476483  ... -2.3504257   2.3315825\n",
        "   0.4740905 ]\n",
        " [ 2.0466998  -0.80993336 -0.38316163 ... -4.07316     0.4754218\n",
        "   0.11840543]]\n",
        "('c_final_dim = ', (500, 46))\n",
        "('z_dim = ', (500, 6))\n",
        "[[ 6.556211   -0.16472377 -0.5883407  ... -1.3467717  -0.05980476\n",
        "   0.97019845]\n",
        " [ 4.3324604  -2.1986148  -0.3473785  ... -0.21249554  0.33295098\n",
        "   1.1799759 ]\n",
        " [ 4.798095   -1.1155488  -0.927622   ... -1.8503145  -0.3758008\n",
        "   1.8186836 ]\n",
        " ...\n",
        " [ 2.9355948  -1.1043918  -0.93266124 ... -2.4525878   0.11930458\n",
        "  -2.0842574 ]\n",
        " [ 0.31231147 -0.6213271  -0.97660816 ... -1.6064273   1.0359222\n",
        "   2.6143224 ]\n",
        " [ 6.6937604  -0.48849908  0.19735308 ... -3.808116   -1.2648683\n",
        "   0.93592554]]"
       ]
      },
      {
       "output_type": "stream",
       "stream": "stdout",
       "text": [
        "\n",
        "('c_final_dim = ', (500, 46))\n",
        "('z_dim = ', (500, 6))\n",
        "[[ 4.489618   -0.6987307   1.5779027  ... -0.18294536 -1.003342\n",
        "   1.1636051 ]\n",
        " [ 2.8306353  -1.8435847   0.6429272  ...  0.37452644 -1.4888786\n",
        "   0.9567214 ]\n",
        " [ 5.7158656  -0.46509174 -1.5531853  ... -2.1568604   2.0178218\n",
        "  -0.30624926]\n",
        " ...\n",
        " [ 2.7684507   0.29745117  0.61896116 ... -3.8089352  -0.7293664\n",
        "  -0.5620819 ]\n",
        " [ 1.3411735  -1.8762456  -0.28380296 ... -0.8841583  -0.29376286\n",
        "   0.35810542]\n",
        " [ 2.102387    0.84141713  1.7531339  ... -1.5797361   0.9651265\n",
        "   0.7025903 ]]\n",
        "('c_final_dim = ', (500, 46))"
       ]
      },
      {
       "output_type": "stream",
       "stream": "stdout",
       "text": [
        "\n",
        "('z_dim = ', (500, 6))\n",
        "[[ 2.6299922   0.30618364 -1.2868701  ... -3.7662067  -1.2967533\n",
        "   0.19360287]\n",
        " [ 5.124723    0.52346325  1.4487134  ... -1.2733943  -1.6579477\n",
        "   1.570057  ]\n",
        " [ 3.740407   -0.8732453  -1.2402225  ... -2.0670774  -0.42942816\n",
        "  -1.1893582 ]\n",
        " ...\n",
        " [ 4.725572    1.5638142   0.6850136  ... -3.1874795   0.08084091\n",
        "  -1.1879746 ]\n",
        " [ 4.2864056   1.2458735   0.8838333  ... -2.0663438   0.5900142\n",
        "   0.8073895 ]\n",
        " [ 2.9696116   0.95434684 -1.8258748  ... -0.5736637  -2.4250507\n",
        "  -0.02971954]]\n",
        "('c_final_dim = ', (500, 46))\n",
        "('z_dim = ', (500, 6))\n",
        "[[ 1.2346603  -0.12269203 -1.0929921  ... -0.83799684  0.66263086\n",
        "   0.84351677]\n",
        " [ 2.420035    1.3416599  -0.827556   ... -2.2959003   0.86204505\n",
        "  -0.6135636 ]\n",
        " [ 1.3195032  -0.31766453 -0.04608796 ... -0.39479518  0.708029\n",
        "  -2.9856398 ]\n",
        " ...\n",
        " [ 3.01141    -0.53117496  2.0870433  ... -0.8417678   0.31389344\n",
        "  -1.7981203 ]\n",
        " [ 4.054227    1.0369874  -0.21406491 ... -3.1733727   0.5890536\n",
        "   0.4634843 ]\n",
        " [ 3.0850487   1.0127693  -0.73193693 ... -1.6128767   0.9424948\n",
        "  -0.87448573]]\n",
        "('c_final_dim = ', (500, 46))"
       ]
      },
      {
       "output_type": "stream",
       "stream": "stdout",
       "text": [
        "\n",
        "('z_dim = ', (500, 6))\n",
        "[[ 2.8798206  -1.1693445   1.9572805  ... -2.266395   -0.8443775\n",
        "  -1.9756371 ]\n",
        " [ 4.519563    0.07278757  1.018514   ... -2.8131287   0.444145\n",
        "  -3.086923  ]\n",
        " [ 4.8142476  -0.57420814 -0.22662865 ... -1.9686362  -1.5122161\n",
        "   0.65655905]\n",
        " ...\n",
        " [ 1.8342608  -0.04833353  1.3428637  ... -1.7254417  -0.14480327\n",
        "   0.36891845]\n",
        " [ 4.09605    -0.9103085  -0.93929225 ... -1.9299976  -0.64314216\n",
        "   0.3776801 ]\n",
        " [ 4.0408483   1.0693562   0.8286419  ... -0.5332576  -1.2403222\n",
        "   1.3461229 ]]\n"
       ]
      },
      {
       "output_type": "stream",
       "stream": "stderr",
       "text": [
        "/usr/lib/python2.7/dist-packages/scipy/special/__init__.py:531: RuntimeWarning: numpy.dtype size changed, may indicate binary incompatibility\n",
        "  from ._ufuncs import *\n"
       ]
      }
     ],
     "prompt_number": 28
    },
    {
     "cell_type": "code",
     "collapsed": false,
     "input": [
      "stick_file = os.path.join(objects_path,'objects/stick.kinbody.xml')\n",
      "stick = env.ReadKinBodyXMLFile(stick_file)\n",
      "env.AddKinBody(stick)"
     ],
     "language": "python",
     "metadata": {},
     "outputs": [],
     "prompt_number": 12
    },
    {
     "cell_type": "code",
     "collapsed": false,
     "input": [
      "from visualization_msgs.msg import Marker\n",
      "from visualization_msgs.msg import MarkerArray\n",
      "import herbpy\n",
      "import os\n",
      "\n",
      "def load_herb_and_env(cond): #46 parameters (s, g, table_pos, box_pos)\n",
      "    s_conf = cond[:7]\n",
      "    g_conf = cond[8:15]\n",
      "    table_pose = cond[16:32].reshape(4,4)\n",
      "    box_pose   = cond[32:48].reshape(4,4)\n",
      "    \n",
      "    table.SetTransform(table_pose)\n",
      "    tall_white_box.SetTransform(box_pose)\n",
      "    \n",
      "    return env, robot\n",
      "\n",
      "def get_eepositions_from_samples(env, robot, samples_conf):\n",
      "    eepositions = []\n",
      "    for i in range(len(samples_conf)):\n",
      "            conf = samples_conf[i,:]\n",
      "#             print(conf)\n",
      "            robot.SetActiveDOFValues(conf[:-1])\n",
      "            ee_trans = robot.right_arm.GetEndEffectorTransform()\n",
      "            trans = ee_trans[0:3,3]\n",
      "            eepos = trans.tolist()\n",
      "            eepositions.append(eepos)\n",
      "            ee_trans = robot.right_arm.GetEndEffectorTransform()\n",
      "            # box_pose = get_box_pose(\"box_pose.txt\")\n",
      "            step_size = 0.1\n",
      "            stick_len = 0.4\n",
      "            prop = conf[-1]\n",
      "            \n",
      "            push_dir = ee_trans[:3,2]\n",
      "            parr_dir = ee_trans[:3,1]\n",
      "            box_pose1 = ee_trans\n",
      "            box_pose1[:3,3] += push_dir*step_size\n",
      "            box_pose1[:3,3] += parr_dir*stick_len*prop\n",
      "            # box_pose[0,3], box_pose[1,3], box_pose[2,3] = eepos \n",
      "            \n",
      "            stick.SetTransform(box_pose1)\n",
      "#             print(\"prop = \", prop)\n",
      "#             print(\"setting stick transform at \", box_pose1[:3,3])\n",
      "    return eepositions\n",
      "\n",
      "def load_marker(eepositions, markerArray, c = [0.0, 0.0, 1.0]):\n",
      "    i = 0\n",
      "    for e in eepositions:\n",
      "            marker = Marker()\n",
      "            marker.header.frame_id = \"/map\"\n",
      "            marker.type = marker.SPHERE\n",
      "            marker.action = marker.ADD\n",
      "            marker.scale.x = 0.05\n",
      "            marker.scale.y = 0.05\n",
      "            marker.scale.z = 0.05\n",
      "            marker.color.a = 1.0\n",
      "            marker.color.r = c[0]\n",
      "            marker.color.g = c[1]\n",
      "            marker.color.b = c[2]\n",
      "            marker.pose.orientation.w = 1.0\n",
      "            marker.pose.position.x = e[0]\n",
      "            marker.pose.position.y = e[1] \n",
      "            marker.pose.position.z = e[2]\n",
      "            markerArray.markers.append(marker)\n",
      "            i += 1\n",
      "\n",
      "    return eepositions, markerArray\n",
      "\n",
      "def publish_samples(eepositions, ee_sg, publisher):\n",
      "#     ee_sg = get_eepositions_from_samples(env, robot, np.array([s_conf, g_conf]))\n",
      "    markerArray = MarkerArray()\n",
      "    eepositions, markerArray = load_marker(eepositions, markerArray)\n",
      "    \n",
      "    #adding start node\n",
      "    marker = Marker()\n",
      "    marker.header.frame_id = \"/map\"\n",
      "    marker.type = marker.SPHERE\n",
      "    marker.action = marker.ADD\n",
      "    marker.scale.x = 0.08\n",
      "    marker.scale.y = 0.08\n",
      "    marker.scale.z = 0.08\n",
      "    marker.color.a = 1.0\n",
      "    marker.color.r = 1\n",
      "    marker.color.g = 0\n",
      "    marker.color.b = 0\n",
      "    marker.pose.orientation.w = 1.0\n",
      "    marker.pose.position.x = ee_sg[0][0]\n",
      "    marker.pose.position.y = ee_sg[0][1] \n",
      "    marker.pose.position.z = ee_sg[0][2]\n",
      "    markerArray.markers.append(marker)\n",
      "    \n",
      "    #adding goal node\n",
      "    marker = Marker()\n",
      "    marker.header.frame_id = \"/map\"\n",
      "    marker.type = marker.SPHERE\n",
      "    marker.action = marker.ADD\n",
      "    marker.scale.x = 0.08\n",
      "    marker.scale.y = 0.08\n",
      "    marker.scale.z = 0.08\n",
      "    marker.color.a = 1.0\n",
      "    marker.color.r = 0\n",
      "    marker.color.g = 1\n",
      "    marker.color.b = 0\n",
      "    marker.pose.orientation.w = 1.0\n",
      "    marker.pose.position.x = ee_sg[1][0]\n",
      "    marker.pose.position.y = ee_sg[1][1] \n",
      "    marker.pose.position.z = ee_sg[1][2]\n",
      "    markerArray.markers.append(marker)\n",
      "    \n",
      "    id = 0\n",
      "    for m in markerArray.markers:\n",
      "           m.id = id\n",
      "           id += 1\n",
      "    publisher.publish(markerArray)"
     ],
     "language": "python",
     "metadata": {},
     "outputs": [],
     "prompt_number": 29
    },
    {
     "cell_type": "code",
     "collapsed": false,
     "input": [
      "rospy.init_node('output_node_pos')"
     ],
     "language": "python",
     "metadata": {},
     "outputs": [],
     "prompt_number": 14
    },
    {
     "cell_type": "code",
     "collapsed": false,
     "input": [
      "topic = 'output_node_pos'\n",
      "publisher = rospy.Publisher(topic, MarkerArray, queue_size=100)"
     ],
     "language": "python",
     "metadata": {},
     "outputs": [],
     "prompt_number": 15
    },
    {
     "cell_type": "code",
     "collapsed": false,
     "input": [
      "from random import randint\n",
      "def get_output_samples(cond, num_viz):\n",
      "    c_sample_seed = cond\n",
      "    c_sample = np.repeat([c_sample_seed],num_viz,axis=0)\n",
      "    y_viz, z_viz = sess.run([y, z], feed_dict={z: np.random.randn(num_viz, z_dim), c: c_sample})\n",
      "    \n",
      "    return y_viz\n",
      "print(\"start\")\n",
      "t = randint(0,numTest-1)\n",
      "print(\"t = \",t)\n",
      "cond = c_test[t,:]\n",
      "print(\"cond.shape = \", cond.shape)\n",
      "num_viz = 300\n",
      "env, robot = load_herb_and_env(cond)\n",
      "print(\"table_box added\")\n",
      "output_samples = np.array(get_output_samples(cond, num_viz))\n",
      "print(output_samples[0,:])\n",
      "\n",
      "robot.SetActiveDOFValues([0,0,1,1,1,1,1])\n",
      "robot.SetActiveDOFValues(output_samples[0,:])\n",
      "\n",
      "print(type(output_samples))\n",
      "\n",
      "eepositions = get_eepositions_from_samples(env, robot, output_samples[:,:])\n",
      "s_conf = cond[:8]\n",
      "g_conf = cond[8:16]\n",
      "ee_sg = get_eepositions_from_samples(env, robot, np.array([s_conf, g_conf]))\n",
      "\n",
      "print(\"going to publish\")\n",
      "while not rospy.is_shutdown():\n",
      "        publish_samples(eepositions, ee_sg, publisher)\n",
      "#         print(\"published\")\n",
      "        rospy.sleep(0.1)\n",
      "\n"
     ],
     "language": "python",
     "metadata": {},
     "outputs": [
      {
       "output_type": "stream",
       "stream": "stdout",
       "text": [
        "start\n",
        "('t = ', 1173)\n",
        "('cond.shape = ', (48,))\n",
        "table_box added\n",
        "[ 3.8260639  -1.2170693  -2.5136006  -0.6112611  -1.8246827  -1.2774402\n",
        "  0.38844466  0.0461558 ]\n",
        "<type 'numpy.ndarray'>\n",
        "going to publish"
       ]
      },
      {
       "ename": "KeyboardInterrupt",
       "evalue": "",
       "output_type": "pyerr",
       "traceback": [
        "\u001b[0;31m---------------------------------------------------------------------------\u001b[0m\n\u001b[0;31mKeyboardInterrupt\u001b[0m                         Traceback (most recent call last)",
        "\u001b[0;32m<ipython-input-32-a552235bcd4c>\u001b[0m in \u001b[0;36m<module>\u001b[0;34m()\u001b[0m\n\u001b[1;32m     31\u001b[0m         \u001b[0mpublish_samples\u001b[0m\u001b[0;34m(\u001b[0m\u001b[0meepositions\u001b[0m\u001b[0;34m,\u001b[0m \u001b[0mee_sg\u001b[0m\u001b[0;34m,\u001b[0m \u001b[0mpublisher\u001b[0m\u001b[0;34m)\u001b[0m\u001b[0;34m\u001b[0m\u001b[0m\n\u001b[1;32m     32\u001b[0m \u001b[0;31m#         print(\"published\")\u001b[0m\u001b[0;34m\u001b[0m\u001b[0;34m\u001b[0m\u001b[0m\n\u001b[0;32m---> 33\u001b[0;31m         \u001b[0mrospy\u001b[0m\u001b[0;34m.\u001b[0m\u001b[0msleep\u001b[0m\u001b[0;34m(\u001b[0m\u001b[0;36m0.1\u001b[0m\u001b[0;34m)\u001b[0m\u001b[0;34m\u001b[0m\u001b[0m\n\u001b[0m\u001b[1;32m     34\u001b[0m \u001b[0;34m\u001b[0m\u001b[0m\n",
        "\u001b[0;32m/opt/ros/indigo/lib/python2.7/dist-packages/rospy/timer.pyc\u001b[0m in \u001b[0;36msleep\u001b[0;34m(duration)\u001b[0m\n\u001b[1;32m    123\u001b[0m             \u001b[0;32mreturn\u001b[0m\u001b[0;34m\u001b[0m\u001b[0m\n\u001b[1;32m    124\u001b[0m         \u001b[0;32melse\u001b[0m\u001b[0;34m:\u001b[0m\u001b[0;34m\u001b[0m\u001b[0m\n\u001b[0;32m--> 125\u001b[0;31m             \u001b[0mrospy\u001b[0m\u001b[0;34m.\u001b[0m\u001b[0mrostime\u001b[0m\u001b[0;34m.\u001b[0m\u001b[0mwallsleep\u001b[0m\u001b[0;34m(\u001b[0m\u001b[0mduration\u001b[0m\u001b[0;34m)\u001b[0m\u001b[0;34m\u001b[0m\u001b[0m\n\u001b[0m\u001b[1;32m    126\u001b[0m     \u001b[0;32melse\u001b[0m\u001b[0;34m:\u001b[0m\u001b[0;34m\u001b[0m\u001b[0m\n\u001b[1;32m    127\u001b[0m         \u001b[0minitial_rostime\u001b[0m \u001b[0;34m=\u001b[0m \u001b[0mrospy\u001b[0m\u001b[0;34m.\u001b[0m\u001b[0mrostime\u001b[0m\u001b[0;34m.\u001b[0m\u001b[0mget_rostime\u001b[0m\u001b[0;34m(\u001b[0m\u001b[0;34m)\u001b[0m\u001b[0;34m\u001b[0m\u001b[0m\n",
        "\u001b[0;32m/opt/ros/indigo/lib/python2.7/dist-packages/rospy/rostime.pyc\u001b[0m in \u001b[0;36mwallsleep\u001b[0;34m(duration)\u001b[0m\n\u001b[1;32m    294\u001b[0m             \u001b[0;32mpass\u001b[0m\u001b[0;34m\u001b[0m\u001b[0m\n\u001b[1;32m    295\u001b[0m     \u001b[0;32melse\u001b[0m\u001b[0;34m:\u001b[0m\u001b[0;34m\u001b[0m\u001b[0m\n\u001b[0;32m--> 296\u001b[0;31m         \u001b[0mtime\u001b[0m\u001b[0;34m.\u001b[0m\u001b[0msleep\u001b[0m\u001b[0;34m(\u001b[0m\u001b[0mduration\u001b[0m\u001b[0;34m)\u001b[0m\u001b[0;34m\u001b[0m\u001b[0m\n\u001b[0m",
        "\u001b[0;31mKeyboardInterrupt\u001b[0m: "
       ]
      },
      {
       "output_type": "stream",
       "stream": "stdout",
       "text": [
        "\n"
       ]
      }
     ],
     "prompt_number": 32
    }
   ],
   "metadata": {}
  }
 ]
}