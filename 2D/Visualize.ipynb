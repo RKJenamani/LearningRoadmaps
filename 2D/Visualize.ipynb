{
 "cells": [
  {
   "cell_type": "code",
   "execution_count": 1,
   "metadata": {},
   "outputs": [],
   "source": [
    "import numpy as np\n",
    "import networkx as nx\n",
    "from itertools import chain\n",
    "import argparse\n",
    "import matplotlib.pyplot as plt\n",
    "import matplotlib.patches as patches\n",
    "import random\n",
    "\n",
    "def state_to_numpy(state):\n",
    "    strlist = state.split()\n",
    "    val_list = [float(s) for s in strlist]\n",
    "    return np.array(val_list) \n",
    "\n",
    "def get_positions(G, p_file_addr, pp_no):\n",
    "    array = []\n",
    "\n",
    "    path_nodes_all = []        \n",
    "    with open(p_file_addr, 'r') as file:\n",
    "        lines = file.readlines()\n",
    "        for line in lines:\n",
    "            node_nos = line.strip('\\n')\n",
    "            path_nodes_all.append(node_nos.split(\",\"))\n",
    "\n",
    "    path_nodes = None\n",
    "            \n",
    "    if(not pp_no==None):        \n",
    "        path_nodes = path_nodes_all[pp_no]\n",
    "    else:\n",
    "        path_nodes = list(chain.from_iterable(path_nodes_all)) \n",
    "    for node in path_nodes:\n",
    "        if(not (node=='-1' or node=='')):\n",
    "            state = G.node[node]['state']\n",
    "            array.append(state_to_numpy(state))\n",
    "\n",
    "    return array\n"
   ]
  },
  {
   "cell_type": "code",
   "execution_count": 6,
   "metadata": {},
   "outputs": [
    {
     "name": "stdout",
     "output_type": "stream",
     "text": [
      "pp_no =  3403\n",
      "shape =  (4000, 100)\n"
     ]
    },
    {
     "data": {
      "image/png": "[encoded data removed]",
      "text/plain": [
       "<matplotlib.figure.Figure at 0x7f718e731ef0>"
      ]
     },
     "metadata": {},
     "output_type": "display_data"
    }
   ],
   "source": [
    "def main():\n",
    "    G = nx.read_graphml(\"graphs/dense_graph.graphml\")\n",
    "    p_file_addr = \"dataset/path_nodes.txt\"\n",
    "    occ_grid_file_addr = \"dataset/occ_grid.txt\"\n",
    "    src_nodes = (np.loadtxt(\"dataset/start_nodes.txt\", dtype = int))\n",
    "    goal_nodes = (np.loadtxt(\"dataset/goal_nodes.txt\", dtype = int))\n",
    "    pp_no = random.randint(0, len(src_nodes)-1)\n",
    "    node_posns = np.array(get_positions(G, p_file_addr, pp_no))\n",
    "    print(\"pp_no = \", pp_no)\n",
    "    src = state_to_numpy(G.node[str(src_nodes[pp_no])]['state'])\n",
    "    goal = state_to_numpy(G.node[str(goal_nodes[pp_no])]['state'])\n",
    "\n",
    "    occ_grid_temp = np.loadtxt(occ_grid_file_addr, delimiter = \" \", dtype = int)\n",
    "    occ_grid = []\n",
    "    print(\"shape = \", occ_grid_temp.shape)\n",
    "    for i in range(occ_grid_temp.shape[0]):\n",
    "        occ_grid.append(occ_grid_temp[i].reshape(10,10))\n",
    "\n",
    "    fig1 = plt.figure(figsize=(10,6), dpi=80)\n",
    "    ax1 = fig1.add_subplot(111, aspect='equal')\n",
    "    for i in range(10):\n",
    "        for j in range(10):\n",
    "            if(occ_grid[pp_no][i,j]==0):\n",
    "                ax1.add_patch(patches.Rectangle(\n",
    "                (i/10.0,j/10.0),   # (x,y)\n",
    "                0.1,          # width\n",
    "                0.1,          # height\n",
    "                alpha=1,\n",
    "                color = \"#676767\"\n",
    "                ))\n",
    "      \n",
    "    plt.scatter(node_posns[:,0], node_posns[:,1], color = \"green\", s = 30)\n",
    "    plt.scatter(src[0], src[1], color = \"red\",  s = 100, edgecolors=\"black\")\n",
    "    plt.scatter(goal[0], goal[1], color = \"blue\",  s = 100, edgecolors=\"black\")\n",
    "    plt.xlim(0,1)\n",
    "    plt.ylim(0,1)\n",
    "    plt.xticks([])\n",
    "    plt.yticks([])\n",
    "    plt.show()\n",
    "\n",
    "\n",
    "if __name__ == '__main__':\n",
    "    main()"
   ]
  },
  {
   "cell_type": "code",
   "execution_count": null,
   "metadata": {},
   "outputs": [],
   "source": []
  }
 ],
 "metadata": {
  "kernelspec": {
   "display_name": "Python 3",
   "language": "python",
   "name": "python3"
  },
  "language_info": {
   "codemirror_mode": {
    "name": "ipython",
    "version": 3
   },
   "file_extension": ".py",
   "mimetype": "text/x-python",
   "name": "python",
   "nbconvert_exporter": "python",
   "pygments_lexer": "ipython3",
   "version": "3.5.2"
  }
 },
 "nbformat": 4,
 "nbformat_minor": 2
}
